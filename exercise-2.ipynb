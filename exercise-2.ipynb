{
 "cells": [
  {
   "cell_type": "markdown",
   "id": "1e945370",
   "metadata": {},
   "source": [
    "# Best practices in data visualization - ASPP 2022, Bilbao\n",
    "## Exercise 2 - Which visualization should I use? \n",
    "\n",
    "In this exercise you get a dataset of the human development index (HDI) for different countries around the world over the years. The HDI is a measure of 'how developed' a country is. It depends on how rich the country is, but also on other factors such as life expectancy and education. This dataset contains several other variables that are interesting and could relate somehow to the HDI. **Your job is to visualize possible relationships and in this way answer some questions (see below)**. \n",
    "\n",
    "Here a short description of each column in the dataset\n",
    "\n",
    "- *Country, Year*, Region are self-explanatory\n",
    "- *GDP per capita*: gross domestic product of a country per inhabitant. It is considered a measure of how rich a country is.\n",
    "- *Expenditure on health/education/social protection*: percentage of public spending destined to those sectors\n",
    "- *HDI*: human development index\n",
    "- *Code*: three letter country code\n",
    "- *Global*: Whether the country belongs to the so called 'Global North' or 'Global South'\n",
    "\n",
    "Note that this dataset is incomplete as it does not contain data of *all* the countries in the world.\n",
    "\n",
    "Sources: [ourworldindata.org](https://ourworldindata.org/human-development-index)"
   ]
  },
  {
   "cell_type": "code",
   "execution_count": 1,
   "id": "3fd7dc1c",
   "metadata": {},
   "outputs": [],
   "source": [
    "import pandas as pd\n",
    "import numpy as np\n",
    "import matplotlib.pyplot as plt\n",
    "\n",
    "# matplotlib comes alread with a set of stylesheets. \n",
    "# here we use one of the default sheets from *seaborn*, another python visualization library based on matplotlib.\n",
    "# for more styles see: https://matplotlib.org/stable/gallery/style_sheets/style_sheets_reference.html\n",
    "plt.style.use('seaborn-darkgrid')"
   ]
  },
  {
   "cell_type": "code",
   "execution_count": 2,
   "id": "12845b76",
   "metadata": {},
   "outputs": [
    {
     "data": {
      "text/html": [
       "<div>\n",
       "<style scoped>\n",
       "    .dataframe tbody tr th:only-of-type {\n",
       "        vertical-align: middle;\n",
       "    }\n",
       "\n",
       "    .dataframe tbody tr th {\n",
       "        vertical-align: top;\n",
       "    }\n",
       "\n",
       "    .dataframe thead th {\n",
       "        text-align: right;\n",
       "    }\n",
       "</style>\n",
       "<table border=\"1\" class=\"dataframe\">\n",
       "  <thead>\n",
       "    <tr style=\"text-align: right;\">\n",
       "      <th></th>\n",
       "      <th>Country</th>\n",
       "      <th>Year</th>\n",
       "      <th>Expenditure on health</th>\n",
       "      <th>Expenditure on education</th>\n",
       "      <th>Expenditure on social protection</th>\n",
       "      <th>HDI</th>\n",
       "      <th>Code</th>\n",
       "      <th>GDP per capita</th>\n",
       "      <th>Region</th>\n",
       "      <th>Global</th>\n",
       "    </tr>\n",
       "  </thead>\n",
       "  <tbody>\n",
       "    <tr>\n",
       "      <th>0</th>\n",
       "      <td>Afghanistan</td>\n",
       "      <td>2006</td>\n",
       "      <td>1.387150</td>\n",
       "      <td>4.684761</td>\n",
       "      <td>0.887695</td>\n",
       "      <td>0.429</td>\n",
       "      <td>AFG</td>\n",
       "      <td>1315.789063</td>\n",
       "      <td>Asia &amp; Pacific</td>\n",
       "      <td>Global South</td>\n",
       "    </tr>\n",
       "    <tr>\n",
       "      <th>1</th>\n",
       "      <td>Afghanistan</td>\n",
       "      <td>2007</td>\n",
       "      <td>2.376418</td>\n",
       "      <td>4.174895</td>\n",
       "      <td>1.357564</td>\n",
       "      <td>0.447</td>\n",
       "      <td>AFG</td>\n",
       "      <td>1460.825806</td>\n",
       "      <td>Asia &amp; Pacific</td>\n",
       "      <td>Global South</td>\n",
       "    </tr>\n",
       "    <tr>\n",
       "      <th>2</th>\n",
       "      <td>Afghanistan</td>\n",
       "      <td>2008</td>\n",
       "      <td>2.313319</td>\n",
       "      <td>4.383672</td>\n",
       "      <td>1.787371</td>\n",
       "      <td>0.447</td>\n",
       "      <td>AFG</td>\n",
       "      <td>1484.114502</td>\n",
       "      <td>Asia &amp; Pacific</td>\n",
       "      <td>Global South</td>\n",
       "    </tr>\n",
       "    <tr>\n",
       "      <th>3</th>\n",
       "      <td>Afghanistan</td>\n",
       "      <td>2009</td>\n",
       "      <td>2.222690</td>\n",
       "      <td>4.810640</td>\n",
       "      <td>1.211468</td>\n",
       "      <td>0.460</td>\n",
       "      <td>AFG</td>\n",
       "      <td>1758.904419</td>\n",
       "      <td>Asia &amp; Pacific</td>\n",
       "      <td>Global South</td>\n",
       "    </tr>\n",
       "    <tr>\n",
       "      <th>4</th>\n",
       "      <td>Afghanistan</td>\n",
       "      <td>2010</td>\n",
       "      <td>2.562634</td>\n",
       "      <td>5.383646</td>\n",
       "      <td>5.380668</td>\n",
       "      <td>0.472</td>\n",
       "      <td>AFG</td>\n",
       "      <td>1957.029053</td>\n",
       "      <td>Asia &amp; Pacific</td>\n",
       "      <td>Global South</td>\n",
       "    </tr>\n",
       "    <tr>\n",
       "      <th>...</th>\n",
       "      <td>...</td>\n",
       "      <td>...</td>\n",
       "      <td>...</td>\n",
       "      <td>...</td>\n",
       "      <td>...</td>\n",
       "      <td>...</td>\n",
       "      <td>...</td>\n",
       "      <td>...</td>\n",
       "      <td>...</td>\n",
       "      <td>...</td>\n",
       "    </tr>\n",
       "    <tr>\n",
       "      <th>1070</th>\n",
       "      <td>Uzbekistan</td>\n",
       "      <td>2015</td>\n",
       "      <td>2.365495</td>\n",
       "      <td>5.660089</td>\n",
       "      <td>6.987072</td>\n",
       "      <td>0.701</td>\n",
       "      <td>UZB</td>\n",
       "      <td>6401.115234</td>\n",
       "      <td>Asia &amp; Pacific</td>\n",
       "      <td>Global South</td>\n",
       "    </tr>\n",
       "    <tr>\n",
       "      <th>1071</th>\n",
       "      <td>Uzbekistan</td>\n",
       "      <td>2016</td>\n",
       "      <td>2.284768</td>\n",
       "      <td>5.567202</td>\n",
       "      <td>6.612210</td>\n",
       "      <td>0.705</td>\n",
       "      <td>UZB</td>\n",
       "      <td>6663.949707</td>\n",
       "      <td>Asia &amp; Pacific</td>\n",
       "      <td>Global South</td>\n",
       "    </tr>\n",
       "    <tr>\n",
       "      <th>1072</th>\n",
       "      <td>Uzbekistan</td>\n",
       "      <td>2017</td>\n",
       "      <td>2.137274</td>\n",
       "      <td>5.079615</td>\n",
       "      <td>6.158300</td>\n",
       "      <td>0.713</td>\n",
       "      <td>UZB</td>\n",
       "      <td>6840.709961</td>\n",
       "      <td>Asia &amp; Pacific</td>\n",
       "      <td>Global South</td>\n",
       "    </tr>\n",
       "    <tr>\n",
       "      <th>1073</th>\n",
       "      <td>Uzbekistan</td>\n",
       "      <td>2018</td>\n",
       "      <td>2.215873</td>\n",
       "      <td>5.162037</td>\n",
       "      <td>6.040904</td>\n",
       "      <td>0.717</td>\n",
       "      <td>UZB</td>\n",
       "      <td>7082.925293</td>\n",
       "      <td>Asia &amp; Pacific</td>\n",
       "      <td>Global South</td>\n",
       "    </tr>\n",
       "    <tr>\n",
       "      <th>1074</th>\n",
       "      <td>Uzbekistan</td>\n",
       "      <td>2019</td>\n",
       "      <td>2.435022</td>\n",
       "      <td>6.769696</td>\n",
       "      <td>6.267907</td>\n",
       "      <td>0.720</td>\n",
       "      <td>UZB</td>\n",
       "      <td>7348.146973</td>\n",
       "      <td>Asia &amp; Pacific</td>\n",
       "      <td>Global South</td>\n",
       "    </tr>\n",
       "  </tbody>\n",
       "</table>\n",
       "<p>1075 rows × 10 columns</p>\n",
       "</div>"
      ],
      "text/plain": [
       "          Country  Year  Expenditure on health  Expenditure on education  \\\n",
       "0     Afghanistan  2006               1.387150                  4.684761   \n",
       "1     Afghanistan  2007               2.376418                  4.174895   \n",
       "2     Afghanistan  2008               2.313319                  4.383672   \n",
       "3     Afghanistan  2009               2.222690                  4.810640   \n",
       "4     Afghanistan  2010               2.562634                  5.383646   \n",
       "...           ...   ...                    ...                       ...   \n",
       "1070   Uzbekistan  2015               2.365495                  5.660089   \n",
       "1071   Uzbekistan  2016               2.284768                  5.567202   \n",
       "1072   Uzbekistan  2017               2.137274                  5.079615   \n",
       "1073   Uzbekistan  2018               2.215873                  5.162037   \n",
       "1074   Uzbekistan  2019               2.435022                  6.769696   \n",
       "\n",
       "      Expenditure on social protection    HDI Code  GDP per capita  \\\n",
       "0                             0.887695  0.429  AFG     1315.789063   \n",
       "1                             1.357564  0.447  AFG     1460.825806   \n",
       "2                             1.787371  0.447  AFG     1484.114502   \n",
       "3                             1.211468  0.460  AFG     1758.904419   \n",
       "4                             5.380668  0.472  AFG     1957.029053   \n",
       "...                                ...    ...  ...             ...   \n",
       "1070                          6.987072  0.701  UZB     6401.115234   \n",
       "1071                          6.612210  0.705  UZB     6663.949707   \n",
       "1072                          6.158300  0.713  UZB     6840.709961   \n",
       "1073                          6.040904  0.717  UZB     7082.925293   \n",
       "1074                          6.267907  0.720  UZB     7348.146973   \n",
       "\n",
       "              Region        Global  \n",
       "0     Asia & Pacific  Global South  \n",
       "1     Asia & Pacific  Global South  \n",
       "2     Asia & Pacific  Global South  \n",
       "3     Asia & Pacific  Global South  \n",
       "4     Asia & Pacific  Global South  \n",
       "...              ...           ...  \n",
       "1070  Asia & Pacific  Global South  \n",
       "1071  Asia & Pacific  Global South  \n",
       "1072  Asia & Pacific  Global South  \n",
       "1073  Asia & Pacific  Global South  \n",
       "1074  Asia & Pacific  Global South  \n",
       "\n",
       "[1075 rows x 10 columns]"
      ]
     },
     "execution_count": 2,
     "metadata": {},
     "output_type": "execute_result"
    }
   ],
   "source": [
    "# we use pandas to read the dataset on a table\n",
    "df = pd.read_csv('data/hdi_data.csv')\n",
    "df"
   ]
  },
  {
   "cell_type": "markdown",
   "id": "f196d54c",
   "metadata": {},
   "source": [
    "#### How to get data from one column"
   ]
  },
  {
   "cell_type": "code",
   "execution_count": 3,
   "id": "82ded147",
   "metadata": {},
   "outputs": [
    {
     "data": {
      "text/plain": [
       "array([1315.789063, 1460.825806, 1484.114502, ..., 6840.709961,\n",
       "       7082.925293, 7348.146973])"
      ]
     },
     "execution_count": 3,
     "metadata": {},
     "output_type": "execute_result"
    }
   ],
   "source": [
    "# You can get the values of one column in this way, returning a numpy array\n",
    "df['GDP per capita'].values"
   ]
  },
  {
   "cell_type": "code",
   "execution_count": 4,
   "id": "c46d9025",
   "metadata": {},
   "outputs": [
    {
     "data": {
      "text/plain": [
       "array(['Afghanistan', 'Afghanistan', 'Afghanistan', ..., 'Uzbekistan',\n",
       "       'Uzbekistan', 'Uzbekistan'], dtype=object)"
      ]
     },
     "execution_count": 4,
     "metadata": {},
     "output_type": "execute_result"
    }
   ],
   "source": [
    "# for the categorical variables you can get it also as a numpy array, of type 'object'\n",
    "df['Country'].values"
   ]
  },
  {
   "cell_type": "markdown",
   "id": "4fa81e00",
   "metadata": {},
   "source": [
    "#### How to filter data "
   ]
  },
  {
   "cell_type": "code",
   "execution_count": 7,
   "id": "4c9155a7",
   "metadata": {},
   "outputs": [],
   "source": [
    "# you can filter the data in this way. Say you are only interested in country 'Germany'. Then you select \n",
    "# only the rows where that is true with df[df['colname'] == value]\n",
    "italy_df = df[df['Country']=='Italy']"
   ]
  },
  {
   "cell_type": "markdown",
   "id": "56f94c59",
   "metadata": {},
   "source": [
    "## Exercises"
   ]
  },
  {
   "cell_type": "markdown",
   "id": "ff3325d3",
   "metadata": {},
   "source": [
    "### A: How is the HDI distributed? normally distributed, or skewed?"
   ]
  },
  {
   "cell_type": "code",
   "execution_count": null,
   "id": "ae06139f",
   "metadata": {},
   "outputs": [],
   "source": []
  },
  {
   "cell_type": "markdown",
   "id": "5badd06a",
   "metadata": {},
   "source": [
    "### B: Is there a relationship between GDP per capita and HDI? is this relationship different for different regions of the world? \n"
   ]
  },
  {
   "cell_type": "code",
   "execution_count": null,
   "id": "4df91d53",
   "metadata": {},
   "outputs": [],
   "source": [
    "\n"
   ]
  },
  {
   "cell_type": "markdown",
   "id": "384c3053",
   "metadata": {},
   "source": [
    "### C: Is expenditure on education or health correlated with the HDI *and* GDP?\n",
    "\n",
    "Can you visualize the three variables at once? (HDI, GDP and % expenditure in health/education).\n",
    "\n",
    "First think (even better, make a sketch) of the different possibilities you have. Then implement the one you think its clearer here below."
   ]
  },
  {
   "cell_type": "code",
   "execution_count": 25,
   "id": "50d958e6",
   "metadata": {},
   "outputs": [
    {
     "data": {
      "text/plain": [
       "[<matplotlib.lines.Line2D at 0x7f4b02092500>]"
      ]
     },
     "execution_count": 25,
     "metadata": {},
     "output_type": "execute_result"
    },
    {
     "data": {
      "image/png": "[encoded data removed]",
      "text/plain": [
       "<Figure size 432x288 with 2 Axes>"
      ]
     },
     "metadata": {
      "needs_background": "light"
     },
     "output_type": "display_data"
    }
   ],
   "source": [
    "fig, axs = plt.subplots(1,2)\n",
    "\n",
    "ax = axs[0]\n",
    "ax.scatter(df['HDI'], df['Expenditure on health'])\n",
    "ax.set_xlabel('HDI')\n",
    "ax.set_ylabel('Expenditure on health')\n",
    "\n",
    "ax = axs[1]\n",
    "ax.scatter(df['GDP per capita'], df['Expenditure on health'], c='k', s=1)\n",
    "ax.set_xlabel('GDP per capita')\n",
    "# ax.set_ylabel('Expenditure on health')\n",
    "\n",
    "plt.tight_layout()\n",
    "\n",
    "#calculate equation for trendline\n",
    "z = np.polyfit(df['GDP per capita'], df['Expenditure on health'], 1)\n",
    "p = np.poly1d(z)\n",
    "\n",
    "#add trendline to plot\n",
    "ax.plot(df['GDP per capita'], p(df['GDP per capita']))\n"
   ]
  },
  {
   "cell_type": "markdown",
   "id": "4467089d",
   "metadata": {},
   "source": [
    "### D: are countries getting richer, i.e. is their GDP growing over time? \n",
    "\n",
    "You can visualize some countries relevant for you, or randomly pick some, say ten of them.\n"
   ]
  },
  {
   "cell_type": "code",
   "execution_count": null,
   "id": "480843d3",
   "metadata": {},
   "outputs": [],
   "source": []
  },
  {
   "cell_type": "markdown",
   "id": "eb90e9ce",
   "metadata": {},
   "source": [
    "### E: According to this dataset, which is - on average - the less developed region? Visualize the fact that the Global North is more developed than the Global South.\n",
    "\n",
    "Consider that your message is simple, comparing regions. Which kind of plot is better at comparing categorial entities?"
   ]
  },
  {
   "cell_type": "code",
   "execution_count": null,
   "id": "0c3e5ef4",
   "metadata": {},
   "outputs": [],
   "source": []
  }
 ],
 "metadata": {
  "kernelspec": {
   "display_name": "Python 3 (ipykernel)",
   "language": "python",
   "name": "python3"
  },
  "language_info": {
   "codemirror_mode": {
    "name": "ipython",
    "version": 3
   },
   "file_extension": ".py",
   "mimetype": "text/x-python",
   "name": "python",
   "nbconvert_exporter": "python",
   "pygments_lexer": "ipython3",
   "version": "3.10.6"
  }
 },
 "nbformat": 4,
 "nbformat_minor": 5
}
