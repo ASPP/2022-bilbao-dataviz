{
 "cells": [
  {
   "cell_type": "markdown",
   "id": "1e945370",
   "metadata": {},
   "source": [
    "# Best practices in data visualization - ASPP 2022, Bilbao\n",
    "## Exercise 2 - Which visualization should I use? \n",
    "\n",
    "In this exercise you get a dataset of the human development index (HDI) for different countries around the world over the years. The HDI is a measure of 'how developed' a country is. It depends on how rich the country is, but also on other factors such as life expectancy and education. This dataset contains several other variables that are interesting and could relate somehow to the HDI. **Your job is to visualize possible relationships and in this way answer some questions (see below)**. \n",
    "\n",
    "Here a short description of each column in the dataset\n",
    "\n",
    "- *Country, Year*, Region are self-explanatory\n",
    "- *GDP per capita*: gross domestic product of a country per inhabitant. It is considered a measure of how rich a country is.\n",
    "- *Expenditure on health/education/social protection*: percentage of public spending destined to those sectors\n",
    "- *HDI*: human development index\n",
    "- *Code*: three letter country code\n",
    "- *Global*: Whether the country belongs to the so called 'Global North' or 'Global South'\n",
    "\n",
    "Note that this dataset is incomplete as it does not contain data of *all* the countries in the world.\n",
    "\n",
    "Sources: [ourworldindata.org](https://ourworldindata.org/human-development-index)"
   ]
  },
  {
   "cell_type": "code",
   "execution_count": 2,
   "id": "3fd7dc1c",
   "metadata": {},
   "outputs": [],
   "source": [
    "import pandas as pd\n",
    "import numpy as np\n",
    "import matplotlib.pyplot as plt\n",
    "\n",
    "# matplotlib comes alread with a set of stylesheets. \n",
    "# here we use one of the default sheets from *seaborn*, another python visualization library based on matplotlib.\n",
    "# for more styles see: https://matplotlib.org/stable/gallery/style_sheets/style_sheets_reference.html\n",
    "plt.style.use('seaborn-darkgrid')"
   ]
  },
  {
   "cell_type": "code",
   "execution_count": 3,
   "id": "12845b76",
   "metadata": {},
   "outputs": [
    {
     "data": {
      "text/html": [
       "<div>\n",
       "<style scoped>\n",
       "    .dataframe tbody tr th:only-of-type {\n",
       "        vertical-align: middle;\n",
       "    }\n",
       "\n",
       "    .dataframe tbody tr th {\n",
       "        vertical-align: top;\n",
       "    }\n",
       "\n",
       "    .dataframe thead th {\n",
       "        text-align: right;\n",
       "    }\n",
       "</style>\n",
       "<table border=\"1\" class=\"dataframe\">\n",
       "  <thead>\n",
       "    <tr style=\"text-align: right;\">\n",
       "      <th></th>\n",
       "      <th>Country</th>\n",
       "      <th>Year</th>\n",
       "      <th>Expenditure on health</th>\n",
       "      <th>Expenditure on education</th>\n",
       "      <th>Expenditure on social protection</th>\n",
       "      <th>HDI</th>\n",
       "      <th>Code</th>\n",
       "      <th>GDP per capita</th>\n",
       "      <th>Region</th>\n",
       "      <th>Global</th>\n",
       "    </tr>\n",
       "  </thead>\n",
       "  <tbody>\n",
       "    <tr>\n",
       "      <th>0</th>\n",
       "      <td>Afghanistan</td>\n",
       "      <td>2006</td>\n",
       "      <td>1.387150</td>\n",
       "      <td>4.684761</td>\n",
       "      <td>0.887695</td>\n",
       "      <td>0.429</td>\n",
       "      <td>AFG</td>\n",
       "      <td>1315.789063</td>\n",
       "      <td>Asia &amp; Pacific</td>\n",
       "      <td>Global South</td>\n",
       "    </tr>\n",
       "    <tr>\n",
       "      <th>1</th>\n",
       "      <td>Afghanistan</td>\n",
       "      <td>2007</td>\n",
       "      <td>2.376418</td>\n",
       "      <td>4.174895</td>\n",
       "      <td>1.357564</td>\n",
       "      <td>0.447</td>\n",
       "      <td>AFG</td>\n",
       "      <td>1460.825806</td>\n",
       "      <td>Asia &amp; Pacific</td>\n",
       "      <td>Global South</td>\n",
       "    </tr>\n",
       "    <tr>\n",
       "      <th>2</th>\n",
       "      <td>Afghanistan</td>\n",
       "      <td>2008</td>\n",
       "      <td>2.313319</td>\n",
       "      <td>4.383672</td>\n",
       "      <td>1.787371</td>\n",
       "      <td>0.447</td>\n",
       "      <td>AFG</td>\n",
       "      <td>1484.114502</td>\n",
       "      <td>Asia &amp; Pacific</td>\n",
       "      <td>Global South</td>\n",
       "    </tr>\n",
       "    <tr>\n",
       "      <th>3</th>\n",
       "      <td>Afghanistan</td>\n",
       "      <td>2009</td>\n",
       "      <td>2.222690</td>\n",
       "      <td>4.810640</td>\n",
       "      <td>1.211468</td>\n",
       "      <td>0.460</td>\n",
       "      <td>AFG</td>\n",
       "      <td>1758.904419</td>\n",
       "      <td>Asia &amp; Pacific</td>\n",
       "      <td>Global South</td>\n",
       "    </tr>\n",
       "    <tr>\n",
       "      <th>4</th>\n",
       "      <td>Afghanistan</td>\n",
       "      <td>2010</td>\n",
       "      <td>2.562634</td>\n",
       "      <td>5.383646</td>\n",
       "      <td>5.380668</td>\n",
       "      <td>0.472</td>\n",
       "      <td>AFG</td>\n",
       "      <td>1957.029053</td>\n",
       "      <td>Asia &amp; Pacific</td>\n",
       "      <td>Global South</td>\n",
       "    </tr>\n",
       "    <tr>\n",
       "      <th>...</th>\n",
       "      <td>...</td>\n",
       "      <td>...</td>\n",
       "      <td>...</td>\n",
       "      <td>...</td>\n",
       "      <td>...</td>\n",
       "      <td>...</td>\n",
       "      <td>...</td>\n",
       "      <td>...</td>\n",
       "      <td>...</td>\n",
       "      <td>...</td>\n",
       "    </tr>\n",
       "    <tr>\n",
       "      <th>1070</th>\n",
       "      <td>Uzbekistan</td>\n",
       "      <td>2015</td>\n",
       "      <td>2.365495</td>\n",
       "      <td>5.660089</td>\n",
       "      <td>6.987072</td>\n",
       "      <td>0.701</td>\n",
       "      <td>UZB</td>\n",
       "      <td>6401.115234</td>\n",
       "      <td>Asia &amp; Pacific</td>\n",
       "      <td>Global South</td>\n",
       "    </tr>\n",
       "    <tr>\n",
       "      <th>1071</th>\n",
       "      <td>Uzbekistan</td>\n",
       "      <td>2016</td>\n",
       "      <td>2.284768</td>\n",
       "      <td>5.567202</td>\n",
       "      <td>6.612210</td>\n",
       "      <td>0.705</td>\n",
       "      <td>UZB</td>\n",
       "      <td>6663.949707</td>\n",
       "      <td>Asia &amp; Pacific</td>\n",
       "      <td>Global South</td>\n",
       "    </tr>\n",
       "    <tr>\n",
       "      <th>1072</th>\n",
       "      <td>Uzbekistan</td>\n",
       "      <td>2017</td>\n",
       "      <td>2.137274</td>\n",
       "      <td>5.079615</td>\n",
       "      <td>6.158300</td>\n",
       "      <td>0.713</td>\n",
       "      <td>UZB</td>\n",
       "      <td>6840.709961</td>\n",
       "      <td>Asia &amp; Pacific</td>\n",
       "      <td>Global South</td>\n",
       "    </tr>\n",
       "    <tr>\n",
       "      <th>1073</th>\n",
       "      <td>Uzbekistan</td>\n",
       "      <td>2018</td>\n",
       "      <td>2.215873</td>\n",
       "      <td>5.162037</td>\n",
       "      <td>6.040904</td>\n",
       "      <td>0.717</td>\n",
       "      <td>UZB</td>\n",
       "      <td>7082.925293</td>\n",
       "      <td>Asia &amp; Pacific</td>\n",
       "      <td>Global South</td>\n",
       "    </tr>\n",
       "    <tr>\n",
       "      <th>1074</th>\n",
       "      <td>Uzbekistan</td>\n",
       "      <td>2019</td>\n",
       "      <td>2.435022</td>\n",
       "      <td>6.769696</td>\n",
       "      <td>6.267907</td>\n",
       "      <td>0.720</td>\n",
       "      <td>UZB</td>\n",
       "      <td>7348.146973</td>\n",
       "      <td>Asia &amp; Pacific</td>\n",
       "      <td>Global South</td>\n",
       "    </tr>\n",
       "  </tbody>\n",
       "</table>\n",
       "<p>1075 rows × 10 columns</p>\n",
       "</div>"
      ],
      "text/plain": [
       "          Country  Year  Expenditure on health  Expenditure on education  \\\n",
       "0     Afghanistan  2006               1.387150                  4.684761   \n",
       "1     Afghanistan  2007               2.376418                  4.174895   \n",
       "2     Afghanistan  2008               2.313319                  4.383672   \n",
       "3     Afghanistan  2009               2.222690                  4.810640   \n",
       "4     Afghanistan  2010               2.562634                  5.383646   \n",
       "...           ...   ...                    ...                       ...   \n",
       "1070   Uzbekistan  2015               2.365495                  5.660089   \n",
       "1071   Uzbekistan  2016               2.284768                  5.567202   \n",
       "1072   Uzbekistan  2017               2.137274                  5.079615   \n",
       "1073   Uzbekistan  2018               2.215873                  5.162037   \n",
       "1074   Uzbekistan  2019               2.435022                  6.769696   \n",
       "\n",
       "      Expenditure on social protection    HDI Code  GDP per capita  \\\n",
       "0                             0.887695  0.429  AFG     1315.789063   \n",
       "1                             1.357564  0.447  AFG     1460.825806   \n",
       "2                             1.787371  0.447  AFG     1484.114502   \n",
       "3                             1.211468  0.460  AFG     1758.904419   \n",
       "4                             5.380668  0.472  AFG     1957.029053   \n",
       "...                                ...    ...  ...             ...   \n",
       "1070                          6.987072  0.701  UZB     6401.115234   \n",
       "1071                          6.612210  0.705  UZB     6663.949707   \n",
       "1072                          6.158300  0.713  UZB     6840.709961   \n",
       "1073                          6.040904  0.717  UZB     7082.925293   \n",
       "1074                          6.267907  0.720  UZB     7348.146973   \n",
       "\n",
       "              Region        Global  \n",
       "0     Asia & Pacific  Global South  \n",
       "1     Asia & Pacific  Global South  \n",
       "2     Asia & Pacific  Global South  \n",
       "3     Asia & Pacific  Global South  \n",
       "4     Asia & Pacific  Global South  \n",
       "...              ...           ...  \n",
       "1070  Asia & Pacific  Global South  \n",
       "1071  Asia & Pacific  Global South  \n",
       "1072  Asia & Pacific  Global South  \n",
       "1073  Asia & Pacific  Global South  \n",
       "1074  Asia & Pacific  Global South  \n",
       "\n",
       "[1075 rows x 10 columns]"
      ]
     },
     "execution_count": 3,
     "metadata": {},
     "output_type": "execute_result"
    }
   ],
   "source": [
    "# we use pandas to read the dataset on a table\n",
    "df = pd.read_csv('data/hdi_data.csv')\n",
    "df"
   ]
  },
  {
   "cell_type": "markdown",
   "id": "f196d54c",
   "metadata": {},
   "source": [
    "#### How to get data from one column"
   ]
  },
  {
   "cell_type": "code",
   "execution_count": 4,
   "id": "82ded147",
   "metadata": {},
   "outputs": [
    {
     "data": {
      "text/plain": [
       "array([1315.789063, 1460.825806, 1484.114502, ..., 6840.709961,\n",
       "       7082.925293, 7348.146973])"
      ]
     },
     "execution_count": 4,
     "metadata": {},
     "output_type": "execute_result"
    }
   ],
   "source": [
    "# You can get the values of one column in this way, returning a numpy array\n",
    "df['GDP per capita'].values"
   ]
  },
  {
   "cell_type": "code",
   "execution_count": 5,
   "id": "c46d9025",
   "metadata": {},
   "outputs": [
    {
     "data": {
      "text/plain": [
       "array(['Afghanistan', 'Afghanistan', 'Afghanistan', ..., 'Uzbekistan',\n",
       "       'Uzbekistan', 'Uzbekistan'], dtype=object)"
      ]
     },
     "execution_count": 5,
     "metadata": {},
     "output_type": "execute_result"
    }
   ],
   "source": [
    "# for the categorical variables you can get it also as a numpy array, of type 'object'\n",
    "df['Country'].values"
   ]
  },
  {
   "cell_type": "markdown",
   "id": "4fa81e00",
   "metadata": {},
   "source": [
    "#### How to filter data "
   ]
  },
  {
   "cell_type": "code",
   "execution_count": 6,
   "id": "4c9155a7",
   "metadata": {},
   "outputs": [
    {
     "data": {
      "text/html": [
       "<div>\n",
       "<style scoped>\n",
       "    .dataframe tbody tr th:only-of-type {\n",
       "        vertical-align: middle;\n",
       "    }\n",
       "\n",
       "    .dataframe tbody tr th {\n",
       "        vertical-align: top;\n",
       "    }\n",
       "\n",
       "    .dataframe thead th {\n",
       "        text-align: right;\n",
       "    }\n",
       "</style>\n",
       "<table border=\"1\" class=\"dataframe\">\n",
       "  <thead>\n",
       "    <tr style=\"text-align: right;\">\n",
       "      <th></th>\n",
       "      <th>Country</th>\n",
       "      <th>Year</th>\n",
       "      <th>Expenditure on health</th>\n",
       "      <th>Expenditure on education</th>\n",
       "      <th>Expenditure on social protection</th>\n",
       "      <th>HDI</th>\n",
       "      <th>Code</th>\n",
       "      <th>GDP per capita</th>\n",
       "      <th>Region</th>\n",
       "      <th>Global</th>\n",
       "    </tr>\n",
       "  </thead>\n",
       "  <tbody>\n",
       "    <tr>\n",
       "      <th>494</th>\n",
       "      <td>Italy</td>\n",
       "      <td>2000</td>\n",
       "      <td>5.822734</td>\n",
       "      <td>4.336241</td>\n",
       "      <td>16.782265</td>\n",
       "      <td>0.838</td>\n",
       "      <td>ITA</td>\n",
       "      <td>43053.93359</td>\n",
       "      <td>Europe</td>\n",
       "      <td>Global North</td>\n",
       "    </tr>\n",
       "    <tr>\n",
       "      <th>495</th>\n",
       "      <td>Italy</td>\n",
       "      <td>2001</td>\n",
       "      <td>6.131799</td>\n",
       "      <td>4.417285</td>\n",
       "      <td>16.585233</td>\n",
       "      <td>0.845</td>\n",
       "      <td>ITA</td>\n",
       "      <td>43869.42969</td>\n",
       "      <td>Europe</td>\n",
       "      <td>Global North</td>\n",
       "    </tr>\n",
       "    <tr>\n",
       "      <th>496</th>\n",
       "      <td>Italy</td>\n",
       "      <td>2002</td>\n",
       "      <td>6.247251</td>\n",
       "      <td>4.438759</td>\n",
       "      <td>16.243340</td>\n",
       "      <td>0.850</td>\n",
       "      <td>ITA</td>\n",
       "      <td>43915.38672</td>\n",
       "      <td>Europe</td>\n",
       "      <td>Global North</td>\n",
       "    </tr>\n",
       "    <tr>\n",
       "      <th>497</th>\n",
       "      <td>Italy</td>\n",
       "      <td>2003</td>\n",
       "      <td>6.252702</td>\n",
       "      <td>4.544670</td>\n",
       "      <td>17.057517</td>\n",
       "      <td>0.855</td>\n",
       "      <td>ITA</td>\n",
       "      <td>43781.21875</td>\n",
       "      <td>Europe</td>\n",
       "      <td>Global North</td>\n",
       "    </tr>\n",
       "    <tr>\n",
       "      <th>498</th>\n",
       "      <td>Italy</td>\n",
       "      <td>2004</td>\n",
       "      <td>6.583200</td>\n",
       "      <td>4.320473</td>\n",
       "      <td>17.114984</td>\n",
       "      <td>0.860</td>\n",
       "      <td>ITA</td>\n",
       "      <td>44118.03516</td>\n",
       "      <td>Europe</td>\n",
       "      <td>Global North</td>\n",
       "    </tr>\n",
       "    <tr>\n",
       "      <th>499</th>\n",
       "      <td>Italy</td>\n",
       "      <td>2005</td>\n",
       "      <td>6.822216</td>\n",
       "      <td>4.443763</td>\n",
       "      <td>17.178628</td>\n",
       "      <td>0.865</td>\n",
       "      <td>ITA</td>\n",
       "      <td>44260.82813</td>\n",
       "      <td>Europe</td>\n",
       "      <td>Global North</td>\n",
       "    </tr>\n",
       "    <tr>\n",
       "      <th>500</th>\n",
       "      <td>Italy</td>\n",
       "      <td>2006</td>\n",
       "      <td>6.900167</td>\n",
       "      <td>4.372923</td>\n",
       "      <td>17.253767</td>\n",
       "      <td>0.870</td>\n",
       "      <td>ITA</td>\n",
       "      <td>44918.17188</td>\n",
       "      <td>Europe</td>\n",
       "      <td>Global North</td>\n",
       "    </tr>\n",
       "    <tr>\n",
       "      <th>501</th>\n",
       "      <td>Italy</td>\n",
       "      <td>2007</td>\n",
       "      <td>6.680224</td>\n",
       "      <td>4.420460</td>\n",
       "      <td>17.399422</td>\n",
       "      <td>0.874</td>\n",
       "      <td>ITA</td>\n",
       "      <td>45356.53516</td>\n",
       "      <td>Europe</td>\n",
       "      <td>Global North</td>\n",
       "    </tr>\n",
       "    <tr>\n",
       "      <th>502</th>\n",
       "      <td>Italy</td>\n",
       "      <td>2008</td>\n",
       "      <td>7.009526</td>\n",
       "      <td>4.286164</td>\n",
       "      <td>17.974354</td>\n",
       "      <td>0.876</td>\n",
       "      <td>ITA</td>\n",
       "      <td>44623.60156</td>\n",
       "      <td>Europe</td>\n",
       "      <td>Global North</td>\n",
       "    </tr>\n",
       "    <tr>\n",
       "      <th>503</th>\n",
       "      <td>Italy</td>\n",
       "      <td>2009</td>\n",
       "      <td>7.420609</td>\n",
       "      <td>4.529398</td>\n",
       "      <td>19.722607</td>\n",
       "      <td>0.876</td>\n",
       "      <td>ITA</td>\n",
       "      <td>42074.92188</td>\n",
       "      <td>Europe</td>\n",
       "      <td>Global North</td>\n",
       "    </tr>\n",
       "    <tr>\n",
       "      <th>504</th>\n",
       "      <td>Italy</td>\n",
       "      <td>2010</td>\n",
       "      <td>7.386240</td>\n",
       "      <td>4.346594</td>\n",
       "      <td>19.688695</td>\n",
       "      <td>0.879</td>\n",
       "      <td>ITA</td>\n",
       "      <td>42664.35547</td>\n",
       "      <td>Europe</td>\n",
       "      <td>Global North</td>\n",
       "    </tr>\n",
       "    <tr>\n",
       "      <th>505</th>\n",
       "      <td>Italy</td>\n",
       "      <td>2011</td>\n",
       "      <td>7.112150</td>\n",
       "      <td>4.060637</td>\n",
       "      <td>19.542249</td>\n",
       "      <td>0.883</td>\n",
       "      <td>ITA</td>\n",
       "      <td>42892.30469</td>\n",
       "      <td>Europe</td>\n",
       "      <td>Global North</td>\n",
       "    </tr>\n",
       "    <tr>\n",
       "      <th>506</th>\n",
       "      <td>Italy</td>\n",
       "      <td>2012</td>\n",
       "      <td>7.112164</td>\n",
       "      <td>4.056273</td>\n",
       "      <td>20.253971</td>\n",
       "      <td>0.882</td>\n",
       "      <td>ITA</td>\n",
       "      <td>41501.71094</td>\n",
       "      <td>Europe</td>\n",
       "      <td>Global North</td>\n",
       "    </tr>\n",
       "    <tr>\n",
       "      <th>507</th>\n",
       "      <td>Italy</td>\n",
       "      <td>2013</td>\n",
       "      <td>7.118028</td>\n",
       "      <td>4.086932</td>\n",
       "      <td>20.908262</td>\n",
       "      <td>0.881</td>\n",
       "      <td>ITA</td>\n",
       "      <td>40268.11328</td>\n",
       "      <td>Europe</td>\n",
       "      <td>Global North</td>\n",
       "    </tr>\n",
       "    <tr>\n",
       "      <th>508</th>\n",
       "      <td>Italy</td>\n",
       "      <td>2014</td>\n",
       "      <td>7.124713</td>\n",
       "      <td>4.039164</td>\n",
       "      <td>21.118885</td>\n",
       "      <td>0.882</td>\n",
       "      <td>ITA</td>\n",
       "      <td>39898.52734</td>\n",
       "      <td>Europe</td>\n",
       "      <td>Global North</td>\n",
       "    </tr>\n",
       "    <tr>\n",
       "      <th>509</th>\n",
       "      <td>Italy</td>\n",
       "      <td>2015</td>\n",
       "      <td>7.031785</td>\n",
       "      <td>3.997868</td>\n",
       "      <td>21.279786</td>\n",
       "      <td>0.882</td>\n",
       "      <td>ITA</td>\n",
       "      <td>40247.82813</td>\n",
       "      <td>Europe</td>\n",
       "      <td>Global North</td>\n",
       "    </tr>\n",
       "    <tr>\n",
       "      <th>510</th>\n",
       "      <td>Italy</td>\n",
       "      <td>2016</td>\n",
       "      <td>6.910715</td>\n",
       "      <td>3.858462</td>\n",
       "      <td>20.877091</td>\n",
       "      <td>0.884</td>\n",
       "      <td>ITA</td>\n",
       "      <td>40837.73828</td>\n",
       "      <td>Europe</td>\n",
       "      <td>Global North</td>\n",
       "    </tr>\n",
       "    <tr>\n",
       "      <th>511</th>\n",
       "      <td>Italy</td>\n",
       "      <td>2017</td>\n",
       "      <td>6.817257</td>\n",
       "      <td>3.860553</td>\n",
       "      <td>20.689073</td>\n",
       "      <td>0.886</td>\n",
       "      <td>ITA</td>\n",
       "      <td>41581.12109</td>\n",
       "      <td>Europe</td>\n",
       "      <td>Global North</td>\n",
       "    </tr>\n",
       "    <tr>\n",
       "      <th>512</th>\n",
       "      <td>Italy</td>\n",
       "      <td>2018</td>\n",
       "      <td>6.811713</td>\n",
       "      <td>3.924991</td>\n",
       "      <td>20.654946</td>\n",
       "      <td>0.890</td>\n",
       "      <td>ITA</td>\n",
       "      <td>42045.92188</td>\n",
       "      <td>Europe</td>\n",
       "      <td>Global North</td>\n",
       "    </tr>\n",
       "    <tr>\n",
       "      <th>513</th>\n",
       "      <td>Italy</td>\n",
       "      <td>2019</td>\n",
       "      <td>6.830260</td>\n",
       "      <td>3.913343</td>\n",
       "      <td>21.118216</td>\n",
       "      <td>0.892</td>\n",
       "      <td>ITA</td>\n",
       "      <td>42708.03516</td>\n",
       "      <td>Europe</td>\n",
       "      <td>Global North</td>\n",
       "    </tr>\n",
       "  </tbody>\n",
       "</table>\n",
       "</div>"
      ],
      "text/plain": [
       "    Country  Year  Expenditure on health  Expenditure on education  \\\n",
       "494   Italy  2000               5.822734                  4.336241   \n",
       "495   Italy  2001               6.131799                  4.417285   \n",
       "496   Italy  2002               6.247251                  4.438759   \n",
       "497   Italy  2003               6.252702                  4.544670   \n",
       "498   Italy  2004               6.583200                  4.320473   \n",
       "499   Italy  2005               6.822216                  4.443763   \n",
       "500   Italy  2006               6.900167                  4.372923   \n",
       "501   Italy  2007               6.680224                  4.420460   \n",
       "502   Italy  2008               7.009526                  4.286164   \n",
       "503   Italy  2009               7.420609                  4.529398   \n",
       "504   Italy  2010               7.386240                  4.346594   \n",
       "505   Italy  2011               7.112150                  4.060637   \n",
       "506   Italy  2012               7.112164                  4.056273   \n",
       "507   Italy  2013               7.118028                  4.086932   \n",
       "508   Italy  2014               7.124713                  4.039164   \n",
       "509   Italy  2015               7.031785                  3.997868   \n",
       "510   Italy  2016               6.910715                  3.858462   \n",
       "511   Italy  2017               6.817257                  3.860553   \n",
       "512   Italy  2018               6.811713                  3.924991   \n",
       "513   Italy  2019               6.830260                  3.913343   \n",
       "\n",
       "     Expenditure on social protection    HDI Code  GDP per capita  Region  \\\n",
       "494                         16.782265  0.838  ITA     43053.93359  Europe   \n",
       "495                         16.585233  0.845  ITA     43869.42969  Europe   \n",
       "496                         16.243340  0.850  ITA     43915.38672  Europe   \n",
       "497                         17.057517  0.855  ITA     43781.21875  Europe   \n",
       "498                         17.114984  0.860  ITA     44118.03516  Europe   \n",
       "499                         17.178628  0.865  ITA     44260.82813  Europe   \n",
       "500                         17.253767  0.870  ITA     44918.17188  Europe   \n",
       "501                         17.399422  0.874  ITA     45356.53516  Europe   \n",
       "502                         17.974354  0.876  ITA     44623.60156  Europe   \n",
       "503                         19.722607  0.876  ITA     42074.92188  Europe   \n",
       "504                         19.688695  0.879  ITA     42664.35547  Europe   \n",
       "505                         19.542249  0.883  ITA     42892.30469  Europe   \n",
       "506                         20.253971  0.882  ITA     41501.71094  Europe   \n",
       "507                         20.908262  0.881  ITA     40268.11328  Europe   \n",
       "508                         21.118885  0.882  ITA     39898.52734  Europe   \n",
       "509                         21.279786  0.882  ITA     40247.82813  Europe   \n",
       "510                         20.877091  0.884  ITA     40837.73828  Europe   \n",
       "511                         20.689073  0.886  ITA     41581.12109  Europe   \n",
       "512                         20.654946  0.890  ITA     42045.92188  Europe   \n",
       "513                         21.118216  0.892  ITA     42708.03516  Europe   \n",
       "\n",
       "           Global  \n",
       "494  Global North  \n",
       "495  Global North  \n",
       "496  Global North  \n",
       "497  Global North  \n",
       "498  Global North  \n",
       "499  Global North  \n",
       "500  Global North  \n",
       "501  Global North  \n",
       "502  Global North  \n",
       "503  Global North  \n",
       "504  Global North  \n",
       "505  Global North  \n",
       "506  Global North  \n",
       "507  Global North  \n",
       "508  Global North  \n",
       "509  Global North  \n",
       "510  Global North  \n",
       "511  Global North  \n",
       "512  Global North  \n",
       "513  Global North  "
      ]
     },
     "execution_count": 6,
     "metadata": {},
     "output_type": "execute_result"
    }
   ],
   "source": [
    "# you can filter the data in this way. Say you are only interested in country 'Germany'. Then you select \n",
    "# only the rows where that is true with df[df['colname'] == value]\n",
    "df[df['Country']=='Italy']"
   ]
  },
  {
   "cell_type": "markdown",
   "id": "56f94c59",
   "metadata": {},
   "source": [
    "## Exercises"
   ]
  },
  {
   "cell_type": "markdown",
   "id": "ff3325d3",
   "metadata": {},
   "source": [
    "### A: How is the HDI distributed? normally distributed, or skewed?"
   ]
  },
  {
   "cell_type": "code",
   "execution_count": 33,
   "id": "ae06139f",
   "metadata": {},
   "outputs": [
    {
     "data": {
      "application/vnd.plotly.v1+json": {
       "config": {
        "plotlyServerURL": "https://plot.ly"
       },
       "data": [
        {
         "alignmentgroup": "True",
         "bingroup": "x",
         "hovertemplate": "Region=Asia & Pacific<br>HDI=%{x}<br>count=%{y}<extra></extra>",
         "legendgroup": "Asia & Pacific",
         "marker": {
          "color": "#636efa"
         },
         "name": "Asia & Pacific",
         "nbinsx": 100,
         "offsetgroup": "Asia & Pacific",
         "orientation": "v",
         "showlegend": true,
         "type": "histogram",
         "x": [
          0.429,
          0.447,
          0.447,
          0.46,
          0.472,
          0.477,
          0.489,
          0.496,
          0.5,
          0.5,
          0.502,
          0.506,
          0.903,
          0.905,
          0.907,
          0.909,
          0.911,
          0.906,
          0.909,
          0.912,
          0.926,
          0.928,
          0.93,
          0.932,
          0.937,
          0.931,
          0.933,
          0.938,
          0.939,
          0.941,
          0.943,
          0.944,
          0.716,
          0.727,
          0.726,
          0.727,
          0.73,
          0.735,
          0.74,
          0.744,
          0.751,
          0.754,
          0.754,
          0.756,
          0.845,
          0.854,
          0.865,
          0.874,
          0.886,
          0.89,
          0.899,
          0.901,
          0.904,
          0.907,
          0.914,
          0.918,
          0.926,
          0.93,
          0.936,
          0.941,
          0.946,
          0.949,
          0.64,
          0.653,
          0.667,
          0.678,
          0.687,
          0.699,
          0.707,
          0.716,
          0.724,
          0.731,
          0.739,
          0.746,
          0.75,
          0.755,
          0.761,
          0.647,
          0.658,
          0.665,
          0.673,
          0.681,
          0.687,
          0.69,
          0.695,
          0.703,
          0.707,
          0.712,
          0.718,
          0.875,
          0.879,
          0.882,
          0.883,
          0.882,
          0.887,
          0.892,
          0.897,
          0.902,
          0.906,
          0.908,
          0.912,
          0.915,
          0.917,
          0.919,
          0.685,
          0.7,
          0.714,
          0.726,
          0.737,
          0.764,
          0.772,
          0.782,
          0.791,
          0.798,
          0.806,
          0.808,
          0.815,
          0.819,
          0.825,
          0.591,
          0.6,
          0.608,
          0.617,
          0.625,
          0.622,
          0.627,
          0.628,
          0.63,
          0.686,
          0.69,
          0.691,
          0.694,
          0.696,
          0.697,
          0.622,
          0.626,
          0.63,
          0.644,
          0.649,
          0.645,
          0.659,
          0.664,
          0.673,
          0.674,
          0.588,
          0.599,
          0.608,
          0.696,
          0.71,
          0.718,
          0.729,
          0.728,
          0.735,
          0.737,
          0.533,
          0.543,
          0.55,
          0.557,
          0.563,
          0.572,
          0.579,
          0.583,
          0.905,
          0.906,
          0.909,
          0.911,
          0.914,
          0.916,
          0.921,
          0.924,
          0.926,
          0.928,
          0.931,
          0.821,
          0.825,
          0.833,
          0.842,
          0.849,
          0.874,
          0.881,
          0.882,
          0.888,
          0.888,
          0.909,
          0.913,
          0.918,
          0.921,
          0.926,
          0.931,
          0.935,
          0.933,
          0.936,
          0.938,
          0.734,
          0.742,
          0.749,
          0.756,
          0.765,
          0.772,
          0.777,
          0.676,
          0.685,
          0.692,
          0.696,
          0.701,
          0.705,
          0.713,
          0.717,
          0.72
         ],
         "xaxis": "x",
         "yaxis": "y"
        },
        {
         "alignmentgroup": "True",
         "bingroup": "x",
         "hovertemplate": "Region=Europe<br>HDI=%{x}<br>count=%{y}<extra></extra>",
         "legendgroup": "Europe",
         "marker": {
          "color": "#EF553B"
         },
         "name": "Europe",
         "nbinsx": 100,
         "offsetgroup": "Europe",
         "orientation": "v",
         "showlegend": true,
         "type": "histogram",
         "x": [
          0.706,
          0.713,
          0.722,
          0.728,
          0.745,
          0.764,
          0.775,
          0.782,
          0.787,
          0.788,
          0.788,
          0.79,
          0.792,
          0.795,
          0.847,
          0.857,
          0.847,
          0.851,
          0.858,
          0.863,
          0.87,
          0.89,
          0.893,
          0.895,
          0.904,
          0.906,
          0.908,
          0.905,
          0.913,
          0.915,
          0.917,
          0.919,
          0.921,
          0.922,
          0.707,
          0.717,
          0.727,
          0.744,
          0.76,
          0.777,
          0.787,
          0.795,
          0.801,
          0.806,
          0.811,
          0.814,
          0.814,
          0.815,
          0.819,
          0.823,
          0.823,
          0.88,
          0.883,
          0.886,
          0.889,
          0.893,
          0.897,
          0.904,
          0.907,
          0.906,
          0.907,
          0.91,
          0.911,
          0.913,
          0.916,
          0.918,
          0.922,
          0.924,
          0.929,
          0.93,
          0.931,
          0.72,
          0.73,
          0.736,
          0.745,
          0.752,
          0.758,
          0.765,
          0.773,
          0.78,
          0.782,
          0.788,
          0.791,
          0.795,
          0.801,
          0.806,
          0.809,
          0.811,
          0.811,
          0.813,
          0.816,
          0.757,
          0.768,
          0.774,
          0.78,
          0.786,
          0.792,
          0.798,
          0.808,
          0.813,
          0.812,
          0.815,
          0.823,
          0.825,
          0.83,
          0.835,
          0.84,
          0.841,
          0.845,
          0.848,
          0.851,
          0.804,
          0.81,
          0.819,
          0.828,
          0.831,
          0.836,
          0.842,
          0.849,
          0.858,
          0.862,
          0.856,
          0.86,
          0.859,
          0.86,
          0.862,
          0.865,
          0.873,
          0.878,
          0.885,
          0.887,
          0.87,
          0.883,
          0.89,
          0.901,
          0.905,
          0.91,
          0.912,
          0.911,
          0.917,
          0.914,
          0.917,
          0.93,
          0.931,
          0.933,
          0.935,
          0.933,
          0.935,
          0.936,
          0.939,
          0.94,
          0.787,
          0.797,
          0.805,
          0.813,
          0.821,
          0.832,
          0.839,
          0.846,
          0.848,
          0.846,
          0.852,
          0.86,
          0.865,
          0.869,
          0.871,
          0.877,
          0.881,
          0.885,
          0.889,
          0.892,
          0.864,
          0.871,
          0.874,
          0.877,
          0.904,
          0.908,
          0.912,
          0.915,
          0.917,
          0.912,
          0.916,
          0.92,
          0.921,
          0.928,
          0.928,
          0.93,
          0.932,
          0.935,
          0.937,
          0.938,
          0.849,
          0.851,
          0.852,
          0.855,
          0.858,
          0.867,
          0.871,
          0.874,
          0.875,
          0.876,
          0.879,
          0.882,
          0.885,
          0.889,
          0.893,
          0.895,
          0.894,
          0.897,
          0.898,
          0.901,
          0.69,
          0.694,
          0.699,
          0.708,
          0.715,
          0.725,
          0.731,
          0.743,
          0.742,
          0.746,
          0.751,
          0.757,
          0.767,
          0.775,
          0.783,
          0.79,
          0.792,
          0.799,
          0.805,
          0.812,
          0.876,
          0.884,
          0.89,
          0.896,
          0.907,
          0.908,
          0.918,
          0.921,
          0.924,
          0.924,
          0.927,
          0.933,
          0.934,
          0.935,
          0.937,
          0.938,
          0.941,
          0.943,
          0.946,
          0.947,
          0.804,
          0.814,
          0.826,
          0.833,
          0.843,
          0.853,
          0.859,
          0.857,
          0.865,
          0.867,
          0.865,
          0.862,
          0.865,
          0.867,
          0.875,
          0.877,
          0.874,
          0.879,
          0.881,
          0.888,
          0.772,
          0.781,
          0.788,
          0.797,
          0.799,
          0.805,
          0.815,
          0.818,
          0.822,
          0.828,
          0.831,
          0.828,
          0.831,
          0.839,
          0.838,
          0.842,
          0.844,
          0.846,
          0.85,
          0.854,
          0.867,
          0.872,
          0.881,
          0.887,
          0.891,
          0.896,
          0.899,
          0.905,
          0.899,
          0.898,
          0.898,
          0.907,
          0.915,
          0.927,
          0.931,
          0.934,
          0.941,
          0.943,
          0.946,
          0.949,
          0.867,
          0.873,
          0.881,
          0.889,
          0.898,
          0.904,
          0.906,
          0.909,
          0.911,
          0.906,
          0.901,
          0.902,
          0.908,
          0.917,
          0.928,
          0.935,
          0.943,
          0.947,
          0.951,
          0.955,
          0.838,
          0.845,
          0.85,
          0.855,
          0.86,
          0.865,
          0.87,
          0.874,
          0.876,
          0.876,
          0.879,
          0.883,
          0.882,
          0.881,
          0.882,
          0.882,
          0.884,
          0.886,
          0.89,
          0.892,
          0.735,
          0.753,
          0.767,
          0.781,
          0.795,
          0.809,
          0.816,
          0.825,
          0.828,
          0.826,
          0.824,
          0.829,
          0.832,
          0.839,
          0.845,
          0.849,
          0.854,
          0.859,
          0.863,
          0.866,
          0.762,
          0.774,
          0.785,
          0.797,
          0.805,
          0.817,
          0.826,
          0.833,
          0.838,
          0.828,
          0.831,
          0.838,
          0.841,
          0.847,
          0.859,
          0.862,
          0.867,
          0.873,
          0.876,
          0.882,
          0.86,
          0.865,
          0.869,
          0.873,
          0.876,
          0.88,
          0.884,
          0.888,
          0.89,
          0.893,
          0.898,
          0.899,
          0.9,
          0.9,
          0.903,
          0.906,
          0.91,
          0.913,
          0.913,
          0.916,
          0.795,
          0.801,
          0.804,
          0.81,
          0.819,
          0.834,
          0.832,
          0.837,
          0.839,
          0.84,
          0.853,
          0.853,
          0.86,
          0.867,
          0.874,
          0.88,
          0.885,
          0.888,
          0.894,
          0.895,
          0.882,
          0.886,
          0.885,
          0.89,
          0.892,
          0.897,
          0.903,
          0.91,
          0.913,
          0.912,
          0.917,
          0.928,
          0.928,
          0.93,
          0.932,
          0.934,
          0.936,
          0.939,
          0.942,
          0.944,
          0.915,
          0.914,
          0.917,
          0.923,
          0.932,
          0.931,
          0.934,
          0.936,
          0.937,
          0.937,
          0.94,
          0.942,
          0.941,
          0.944,
          0.944,
          0.947,
          0.95,
          0.954,
          0.956,
          0.957,
          0.79,
          0.796,
          0.804,
          0.809,
          0.807,
          0.813,
          0.819,
          0.824,
          0.829,
          0.834,
          0.84,
          0.845,
          0.842,
          0.856,
          0.858,
          0.863,
          0.869,
          0.873,
          0.877,
          0.88,
          0.792,
          0.798,
          0.799,
          0.805,
          0.809,
          0.813,
          0.811,
          0.814,
          0.817,
          0.823,
          0.829,
          0.833,
          0.836,
          0.84,
          0.847,
          0.854,
          0.855,
          0.858,
          0.86,
          0.864,
          0.716,
          0.722,
          0.731,
          0.739,
          0.753,
          0.762,
          0.774,
          0.788,
          0.803,
          0.806,
          0.805,
          0.806,
          0.803,
          0.808,
          0.811,
          0.815,
          0.82,
          0.821,
          0.823,
          0.828,
          0.722,
          0.728,
          0.734,
          0.742,
          0.748,
          0.753,
          0.76,
          0.775,
          0.773,
          0.781,
          0.79,
          0.798,
          0.802,
          0.807,
          0.809,
          0.815,
          0.82,
          0.823,
          0.824,
          0.758,
          0.764,
          0.766,
          0.766,
          0.776,
          0.775,
          0.765,
          0.766,
          0.773,
          0.778,
          0.786,
          0.796,
          0.805,
          0.816,
          0.823,
          0.825,
          0.831,
          0.838,
          0.843,
          0.845,
          0.847,
          0.85,
          0.853,
          0.855,
          0.858,
          0.86,
          0.832,
          0.843,
          0.85,
          0.857,
          0.864,
          0.869,
          0.876,
          0.88,
          0.886,
          0.885,
          0.889,
          0.891,
          0.884,
          0.893,
          0.894,
          0.894,
          0.9,
          0.907,
          0.912,
          0.917,
          0.832,
          0.835,
          0.837,
          0.84,
          0.844,
          0.851,
          0.856,
          0.86,
          0.863,
          0.865,
          0.872,
          0.878,
          0.881,
          0.882,
          0.888,
          0.895,
          0.899,
          0.903,
          0.905,
          0.904,
          0.903,
          0.905,
          0.908,
          0.913,
          0.901,
          0.904,
          0.908,
          0.91,
          0.907,
          0.905,
          0.911,
          0.912,
          0.914,
          0.933,
          0.935,
          0.938,
          0.94,
          0.942,
          0.943,
          0.945,
          0.898,
          0.9,
          0.899,
          0.905,
          0.909,
          0.914,
          0.92,
          0.923,
          0.925,
          0.935,
          0.941,
          0.941,
          0.944,
          0.946,
          0.942,
          0.947,
          0.947,
          0.949,
          0.955,
          0.955,
          0.714,
          0.72,
          0.739,
          0.753,
          0.765,
          0.785,
          0.796,
          0.801,
          0.808,
          0.814,
          0.817,
          0.82,
          0.708,
          0.717,
          0.725,
          0.732,
          0.738,
          0.744,
          0.751,
          0.755,
          0.749,
          0.755,
          0.76,
          0.764,
          0.767,
          0.771,
          0.765,
          0.768,
          0.771,
          0.774,
          0.779,
          0.874,
          0.878,
          0.881,
          0.885,
          0.892,
          0.897,
          0.896,
          0.899,
          0.903,
          0.906,
          0.912,
          0.906,
          0.904,
          0.921,
          0.925,
          0.923,
          0.924,
          0.926,
          0.928,
          0.932
         ],
         "xaxis": "x",
         "yaxis": "y"
        },
        {
         "alignmentgroup": "True",
         "bingroup": "x",
         "hovertemplate": "Region=South/Latin America<br>HDI=%{x}<br>count=%{y}<extra></extra>",
         "legendgroup": "South/Latin America",
         "marker": {
          "color": "#00cc96"
         },
         "name": "South/Latin America",
         "nbinsx": 100,
         "offsetgroup": "South/Latin America",
         "orientation": "v",
         "showlegend": true,
         "type": "histogram",
         "x": [
          0.637,
          0.64,
          0.641,
          0.643,
          0.649,
          0.649,
          0.627,
          0.633,
          0.646,
          0.652,
          0.655,
          0.656,
          0.668,
          0.664,
          0.669,
          0.67,
          0.668,
          0.668,
          0.671,
          0.671,
          0.67,
          0.673,
          0.648,
          0.652,
          0.653,
          0.655,
          0.657,
          0.663
         ],
         "xaxis": "x",
         "yaxis": "y"
        },
        {
         "alignmentgroup": "True",
         "bingroup": "x",
         "hovertemplate": "Region=North America<br>HDI=%{x}<br>count=%{y}<extra></extra>",
         "legendgroup": "North America",
         "marker": {
          "color": "#ab63fa"
         },
         "name": "North America",
         "nbinsx": 100,
         "offsetgroup": "North America",
         "orientation": "v",
         "showlegend": true,
         "type": "histogram",
         "x": [
          0.898,
          0.898,
          0.901,
          0.903,
          0.906,
          0.913,
          0.918,
          0.921,
          0.923,
          0.926,
          0.928,
          0.929,
          0.886,
          0.889,
          0.891,
          0.894,
          0.897,
          0.9,
          0.903,
          0.906,
          0.911,
          0.912,
          0.916,
          0.919,
          0.92,
          0.918,
          0.92,
          0.921,
          0.922,
          0.924,
          0.925
         ],
         "xaxis": "x",
         "yaxis": "y"
        },
        {
         "alignmentgroup": "True",
         "bingroup": "x",
         "hovertemplate": "Region=Middle east<br>HDI=%{x}<br>count=%{y}<extra></extra>",
         "legendgroup": "Middle east",
         "marker": {
          "color": "#FFA15A"
         },
         "name": "Middle east",
         "nbinsx": 100,
         "offsetgroup": "Middle east",
         "orientation": "v",
         "showlegend": true,
         "type": "histogram",
         "x": [
          0.622,
          0.625,
          0.631,
          0.637,
          0.645,
          0.653,
          0.66,
          0.662,
          0.668,
          0.671,
          0.677,
          0.683,
          0.685,
          0.691,
          0.861,
          0.865,
          0.873,
          0.874,
          0.876,
          0.88,
          0.88,
          0.889,
          0.889,
          0.89,
          0.895,
          0.901,
          0.903,
          0.905,
          0.909,
          0.91,
          0.913,
          0.913,
          0.916,
          0.919,
          0.778,
          0.78,
          0.788,
          0.789,
          0.783,
          0.788,
          0.826,
          0.832,
          0.838,
          0.847,
          0.859,
          0.864,
          0.881,
          0.889,
          0.89
         ],
         "xaxis": "x",
         "yaxis": "y"
        },
        {
         "alignmentgroup": "True",
         "bingroup": "x",
         "hovertemplate": "Region=Africa<br>HDI=%{x}<br>count=%{y}<extra></extra>",
         "legendgroup": "Africa",
         "marker": {
          "color": "#19d3f3"
         },
         "name": "Africa",
         "nbinsx": 100,
         "offsetgroup": "Africa",
         "orientation": "v",
         "showlegend": true,
         "type": "histogram",
         "x": [
          0.692,
          0.701,
          0.708,
          0.717,
          0.724,
          0.731,
          0.738,
          0.745,
          0.751,
          0.76,
          0.771,
          0.779,
          0.789,
          0.789,
          0.794,
          0.797,
          0.801,
          0.804,
          0.714,
          0.722,
          0.745,
          0.75,
          0.754,
          0.764,
          0.767,
          0.755,
          0.775,
          0.775,
          0.786,
          0.787,
          0.79,
          0.631,
          0.611,
          0.619,
          0.619,
          0.619,
          0.622,
          0.626,
          0.632,
          0.646,
          0.655,
          0.664,
          0.665,
          0.675,
          0.685,
          0.693,
          0.701,
          0.703,
          0.705,
          0.707,
          0.709
         ],
         "xaxis": "x",
         "yaxis": "y"
        }
       ],
       "layout": {
        "barmode": "relative",
        "legend": {
         "title": {
          "text": "Region"
         },
         "tracegroupgap": 0
        },
        "margin": {
         "t": 60
        },
        "template": {
         "data": {
          "bar": [
           {
            "error_x": {
             "color": "#2a3f5f"
            },
            "error_y": {
             "color": "#2a3f5f"
            },
            "marker": {
             "line": {
              "color": "#E5ECF6",
              "width": 0.5
             }
            },
            "type": "bar"
           }
          ],
          "barpolar": [
           {
            "marker": {
             "line": {
              "color": "#E5ECF6",
              "width": 0.5
             }
            },
            "type": "barpolar"
           }
          ],
          "carpet": [
           {
            "aaxis": {
             "endlinecolor": "#2a3f5f",
             "gridcolor": "white",
             "linecolor": "white",
             "minorgridcolor": "white",
             "startlinecolor": "#2a3f5f"
            },
            "baxis": {
             "endlinecolor": "#2a3f5f",
             "gridcolor": "white",
             "linecolor": "white",
             "minorgridcolor": "white",
             "startlinecolor": "#2a3f5f"
            },
            "type": "carpet"
           }
          ],
          "choropleth": [
           {
            "colorbar": {
             "outlinewidth": 0,
             "ticks": ""
            },
            "type": "choropleth"
           }
          ],
          "contour": [
           {
            "colorbar": {
             "outlinewidth": 0,
             "ticks": ""
            },
            "colorscale": [
             [
              0,
              "#0d0887"
             ],
             [
              0.1111111111111111,
              "#46039f"
             ],
             [
              0.2222222222222222,
              "#7201a8"
             ],
             [
              0.3333333333333333,
              "#9c179e"
             ],
             [
              0.4444444444444444,
              "#bd3786"
             ],
             [
              0.5555555555555556,
              "#d8576b"
             ],
             [
              0.6666666666666666,
              "#ed7953"
             ],
             [
              0.7777777777777778,
              "#fb9f3a"
             ],
             [
              0.8888888888888888,
              "#fdca26"
             ],
             [
              1,
              "#f0f921"
             ]
            ],
            "type": "contour"
           }
          ],
          "contourcarpet": [
           {
            "colorbar": {
             "outlinewidth": 0,
             "ticks": ""
            },
            "type": "contourcarpet"
           }
          ],
          "heatmap": [
           {
            "colorbar": {
             "outlinewidth": 0,
             "ticks": ""
            },
            "colorscale": [
             [
              0,
              "#0d0887"
             ],
             [
              0.1111111111111111,
              "#46039f"
             ],
             [
              0.2222222222222222,
              "#7201a8"
             ],
             [
              0.3333333333333333,
              "#9c179e"
             ],
             [
              0.4444444444444444,
              "#bd3786"
             ],
             [
              0.5555555555555556,
              "#d8576b"
             ],
             [
              0.6666666666666666,
              "#ed7953"
             ],
             [
              0.7777777777777778,
              "#fb9f3a"
             ],
             [
              0.8888888888888888,
              "#fdca26"
             ],
             [
              1,
              "#f0f921"
             ]
            ],
            "type": "heatmap"
           }
          ],
          "heatmapgl": [
           {
            "colorbar": {
             "outlinewidth": 0,
             "ticks": ""
            },
            "colorscale": [
             [
              0,
              "#0d0887"
             ],
             [
              0.1111111111111111,
              "#46039f"
             ],
             [
              0.2222222222222222,
              "#7201a8"
             ],
             [
              0.3333333333333333,
              "#9c179e"
             ],
             [
              0.4444444444444444,
              "#bd3786"
             ],
             [
              0.5555555555555556,
              "#d8576b"
             ],
             [
              0.6666666666666666,
              "#ed7953"
             ],
             [
              0.7777777777777778,
              "#fb9f3a"
             ],
             [
              0.8888888888888888,
              "#fdca26"
             ],
             [
              1,
              "#f0f921"
             ]
            ],
            "type": "heatmapgl"
           }
          ],
          "histogram": [
           {
            "marker": {
             "colorbar": {
              "outlinewidth": 0,
              "ticks": ""
             }
            },
            "type": "histogram"
           }
          ],
          "histogram2d": [
           {
            "colorbar": {
             "outlinewidth": 0,
             "ticks": ""
            },
            "colorscale": [
             [
              0,
              "#0d0887"
             ],
             [
              0.1111111111111111,
              "#46039f"
             ],
             [
              0.2222222222222222,
              "#7201a8"
             ],
             [
              0.3333333333333333,
              "#9c179e"
             ],
             [
              0.4444444444444444,
              "#bd3786"
             ],
             [
              0.5555555555555556,
              "#d8576b"
             ],
             [
              0.6666666666666666,
              "#ed7953"
             ],
             [
              0.7777777777777778,
              "#fb9f3a"
             ],
             [
              0.8888888888888888,
              "#fdca26"
             ],
             [
              1,
              "#f0f921"
             ]
            ],
            "type": "histogram2d"
           }
          ],
          "histogram2dcontour": [
           {
            "colorbar": {
             "outlinewidth": 0,
             "ticks": ""
            },
            "colorscale": [
             [
              0,
              "#0d0887"
             ],
             [
              0.1111111111111111,
              "#46039f"
             ],
             [
              0.2222222222222222,
              "#7201a8"
             ],
             [
              0.3333333333333333,
              "#9c179e"
             ],
             [
              0.4444444444444444,
              "#bd3786"
             ],
             [
              0.5555555555555556,
              "#d8576b"
             ],
             [
              0.6666666666666666,
              "#ed7953"
             ],
             [
              0.7777777777777778,
              "#fb9f3a"
             ],
             [
              0.8888888888888888,
              "#fdca26"
             ],
             [
              1,
              "#f0f921"
             ]
            ],
            "type": "histogram2dcontour"
           }
          ],
          "mesh3d": [
           {
            "colorbar": {
             "outlinewidth": 0,
             "ticks": ""
            },
            "type": "mesh3d"
           }
          ],
          "parcoords": [
           {
            "line": {
             "colorbar": {
              "outlinewidth": 0,
              "ticks": ""
             }
            },
            "type": "parcoords"
           }
          ],
          "pie": [
           {
            "automargin": true,
            "type": "pie"
           }
          ],
          "scatter": [
           {
            "marker": {
             "colorbar": {
              "outlinewidth": 0,
              "ticks": ""
             }
            },
            "type": "scatter"
           }
          ],
          "scatter3d": [
           {
            "line": {
             "colorbar": {
              "outlinewidth": 0,
              "ticks": ""
             }
            },
            "marker": {
             "colorbar": {
              "outlinewidth": 0,
              "ticks": ""
             }
            },
            "type": "scatter3d"
           }
          ],
          "scattercarpet": [
           {
            "marker": {
             "colorbar": {
              "outlinewidth": 0,
              "ticks": ""
             }
            },
            "type": "scattercarpet"
           }
          ],
          "scattergeo": [
           {
            "marker": {
             "colorbar": {
              "outlinewidth": 0,
              "ticks": ""
             }
            },
            "type": "scattergeo"
           }
          ],
          "scattergl": [
           {
            "marker": {
             "colorbar": {
              "outlinewidth": 0,
              "ticks": ""
             }
            },
            "type": "scattergl"
           }
          ],
          "scattermapbox": [
           {
            "marker": {
             "colorbar": {
              "outlinewidth": 0,
              "ticks": ""
             }
            },
            "type": "scattermapbox"
           }
          ],
          "scatterpolar": [
           {
            "marker": {
             "colorbar": {
              "outlinewidth": 0,
              "ticks": ""
             }
            },
            "type": "scatterpolar"
           }
          ],
          "scatterpolargl": [
           {
            "marker": {
             "colorbar": {
              "outlinewidth": 0,
              "ticks": ""
             }
            },
            "type": "scatterpolargl"
           }
          ],
          "scatterternary": [
           {
            "marker": {
             "colorbar": {
              "outlinewidth": 0,
              "ticks": ""
             }
            },
            "type": "scatterternary"
           }
          ],
          "surface": [
           {
            "colorbar": {
             "outlinewidth": 0,
             "ticks": ""
            },
            "colorscale": [
             [
              0,
              "#0d0887"
             ],
             [
              0.1111111111111111,
              "#46039f"
             ],
             [
              0.2222222222222222,
              "#7201a8"
             ],
             [
              0.3333333333333333,
              "#9c179e"
             ],
             [
              0.4444444444444444,
              "#bd3786"
             ],
             [
              0.5555555555555556,
              "#d8576b"
             ],
             [
              0.6666666666666666,
              "#ed7953"
             ],
             [
              0.7777777777777778,
              "#fb9f3a"
             ],
             [
              0.8888888888888888,
              "#fdca26"
             ],
             [
              1,
              "#f0f921"
             ]
            ],
            "type": "surface"
           }
          ],
          "table": [
           {
            "cells": {
             "fill": {
              "color": "#EBF0F8"
             },
             "line": {
              "color": "white"
             }
            },
            "header": {
             "fill": {
              "color": "#C8D4E3"
             },
             "line": {
              "color": "white"
             }
            },
            "type": "table"
           }
          ]
         },
         "layout": {
          "annotationdefaults": {
           "arrowcolor": "#2a3f5f",
           "arrowhead": 0,
           "arrowwidth": 1
          },
          "autotypenumbers": "strict",
          "coloraxis": {
           "colorbar": {
            "outlinewidth": 0,
            "ticks": ""
           }
          },
          "colorscale": {
           "diverging": [
            [
             0,
             "#8e0152"
            ],
            [
             0.1,
             "#c51b7d"
            ],
            [
             0.2,
             "#de77ae"
            ],
            [
             0.3,
             "#f1b6da"
            ],
            [
             0.4,
             "#fde0ef"
            ],
            [
             0.5,
             "#f7f7f7"
            ],
            [
             0.6,
             "#e6f5d0"
            ],
            [
             0.7,
             "#b8e186"
            ],
            [
             0.8,
             "#7fbc41"
            ],
            [
             0.9,
             "#4d9221"
            ],
            [
             1,
             "#276419"
            ]
           ],
           "sequential": [
            [
             0,
             "#0d0887"
            ],
            [
             0.1111111111111111,
             "#46039f"
            ],
            [
             0.2222222222222222,
             "#7201a8"
            ],
            [
             0.3333333333333333,
             "#9c179e"
            ],
            [
             0.4444444444444444,
             "#bd3786"
            ],
            [
             0.5555555555555556,
             "#d8576b"
            ],
            [
             0.6666666666666666,
             "#ed7953"
            ],
            [
             0.7777777777777778,
             "#fb9f3a"
            ],
            [
             0.8888888888888888,
             "#fdca26"
            ],
            [
             1,
             "#f0f921"
            ]
           ],
           "sequentialminus": [
            [
             0,
             "#0d0887"
            ],
            [
             0.1111111111111111,
             "#46039f"
            ],
            [
             0.2222222222222222,
             "#7201a8"
            ],
            [
             0.3333333333333333,
             "#9c179e"
            ],
            [
             0.4444444444444444,
             "#bd3786"
            ],
            [
             0.5555555555555556,
             "#d8576b"
            ],
            [
             0.6666666666666666,
             "#ed7953"
            ],
            [
             0.7777777777777778,
             "#fb9f3a"
            ],
            [
             0.8888888888888888,
             "#fdca26"
            ],
            [
             1,
             "#f0f921"
            ]
           ]
          },
          "colorway": [
           "#636efa",
           "#EF553B",
           "#00cc96",
           "#ab63fa",
           "#FFA15A",
           "#19d3f3",
           "#FF6692",
           "#B6E880",
           "#FF97FF",
           "#FECB52"
          ],
          "font": {
           "color": "#2a3f5f"
          },
          "geo": {
           "bgcolor": "white",
           "lakecolor": "white",
           "landcolor": "#E5ECF6",
           "showlakes": true,
           "showland": true,
           "subunitcolor": "white"
          },
          "hoverlabel": {
           "align": "left"
          },
          "hovermode": "closest",
          "mapbox": {
           "style": "light"
          },
          "paper_bgcolor": "white",
          "plot_bgcolor": "#E5ECF6",
          "polar": {
           "angularaxis": {
            "gridcolor": "white",
            "linecolor": "white",
            "ticks": ""
           },
           "bgcolor": "#E5ECF6",
           "radialaxis": {
            "gridcolor": "white",
            "linecolor": "white",
            "ticks": ""
           }
          },
          "scene": {
           "xaxis": {
            "backgroundcolor": "#E5ECF6",
            "gridcolor": "white",
            "gridwidth": 2,
            "linecolor": "white",
            "showbackground": true,
            "ticks": "",
            "zerolinecolor": "white"
           },
           "yaxis": {
            "backgroundcolor": "#E5ECF6",
            "gridcolor": "white",
            "gridwidth": 2,
            "linecolor": "white",
            "showbackground": true,
            "ticks": "",
            "zerolinecolor": "white"
           },
           "zaxis": {
            "backgroundcolor": "#E5ECF6",
            "gridcolor": "white",
            "gridwidth": 2,
            "linecolor": "white",
            "showbackground": true,
            "ticks": "",
            "zerolinecolor": "white"
           }
          },
          "shapedefaults": {
           "line": {
            "color": "#2a3f5f"
           }
          },
          "ternary": {
           "aaxis": {
            "gridcolor": "white",
            "linecolor": "white",
            "ticks": ""
           },
           "baxis": {
            "gridcolor": "white",
            "linecolor": "white",
            "ticks": ""
           },
           "bgcolor": "#E5ECF6",
           "caxis": {
            "gridcolor": "white",
            "linecolor": "white",
            "ticks": ""
           }
          },
          "title": {
           "x": 0.05
          },
          "xaxis": {
           "automargin": true,
           "gridcolor": "white",
           "linecolor": "white",
           "ticks": "",
           "title": {
            "standoff": 15
           },
           "zerolinecolor": "white",
           "zerolinewidth": 2
          },
          "yaxis": {
           "automargin": true,
           "gridcolor": "white",
           "linecolor": "white",
           "ticks": "",
           "title": {
            "standoff": 15
           },
           "zerolinecolor": "white",
           "zerolinewidth": 2
          }
         }
        },
        "xaxis": {
         "anchor": "y",
         "domain": [
          0,
          1
         ],
         "title": {
          "text": "HDI"
         }
        },
        "yaxis": {
         "anchor": "x",
         "domain": [
          0,
          1
         ],
         "title": {
          "text": "count"
         }
        }
       }
      },
      "text/html": [
       "<div>                            <div id=\"29cd084e-a1c3-4c94-abb1-31d3cd02dc7b\" class=\"plotly-graph-div\" style=\"height:525px; width:100%;\"></div>            <script type=\"text/javascript\">                require([\"plotly\"], function(Plotly) {                    window.PLOTLYENV=window.PLOTLYENV || {};                                    if (document.getElementById(\"29cd084e-a1c3-4c94-abb1-31d3cd02dc7b\")) {                    Plotly.newPlot(                        \"29cd084e-a1c3-4c94-abb1-31d3cd02dc7b\",                        [{\"alignmentgroup\": \"True\", \"bingroup\": \"x\", \"hovertemplate\": \"Region=Asia & Pacific<br>HDI=%{x}<br>count=%{y}<extra></extra>\", \"legendgroup\": \"Asia & Pacific\", \"marker\": {\"color\": \"#636efa\"}, \"name\": \"Asia & Pacific\", \"nbinsx\": 100, \"offsetgroup\": \"Asia & Pacific\", \"orientation\": \"v\", \"showlegend\": true, \"type\": \"histogram\", \"x\": [0.429, 0.447, 0.447, 0.46, 0.472, 0.477, 0.489, 0.496, 0.5, 0.5, 0.502, 0.506, 0.903, 0.905, 0.907, 0.909, 0.911, 0.906, 0.909, 0.912, 0.926, 0.928, 0.93, 0.932, 0.937, 0.931, 0.933, 0.938, 0.939, 0.941, 0.943, 0.944, 0.716, 0.727, 0.726, 0.727, 0.73, 0.735, 0.74, 0.744, 0.751, 0.754, 0.754, 0.756, 0.845, 0.854, 0.865, 0.874, 0.886, 0.89, 0.899, 0.901, 0.904, 0.907, 0.914, 0.918, 0.926, 0.93, 0.936, 0.941, 0.946, 0.949, 0.64, 0.653, 0.667, 0.678, 0.687, 0.699, 0.707, 0.716, 0.724, 0.731, 0.739, 0.746, 0.75, 0.755, 0.761, 0.647, 0.658, 0.665, 0.673, 0.681, 0.687, 0.69, 0.695, 0.703, 0.707, 0.712, 0.718, 0.875, 0.879, 0.882, 0.883, 0.882, 0.887, 0.892, 0.897, 0.902, 0.906, 0.908, 0.912, 0.915, 0.917, 0.919, 0.685, 0.7, 0.714, 0.726, 0.737, 0.764, 0.772, 0.782, 0.791, 0.798, 0.806, 0.808, 0.815, 0.819, 0.825, 0.591, 0.6, 0.608, 0.617, 0.625, 0.622, 0.627, 0.628, 0.63, 0.686, 0.69, 0.691, 0.694, 0.696, 0.697, 0.622, 0.626, 0.63, 0.644, 0.649, 0.645, 0.659, 0.664, 0.673, 0.674, 0.588, 0.599, 0.608, 0.696, 0.71, 0.718, 0.729, 0.728, 0.735, 0.737, 0.533, 0.543, 0.55, 0.557, 0.563, 0.572, 0.579, 0.583, 0.905, 0.906, 0.909, 0.911, 0.914, 0.916, 0.921, 0.924, 0.926, 0.928, 0.931, 0.821, 0.825, 0.833, 0.842, 0.849, 0.874, 0.881, 0.882, 0.888, 0.888, 0.909, 0.913, 0.918, 0.921, 0.926, 0.931, 0.935, 0.933, 0.936, 0.938, 0.734, 0.742, 0.749, 0.756, 0.765, 0.772, 0.777, 0.676, 0.685, 0.692, 0.696, 0.701, 0.705, 0.713, 0.717, 0.72], \"xaxis\": \"x\", \"yaxis\": \"y\"}, {\"alignmentgroup\": \"True\", \"bingroup\": \"x\", \"hovertemplate\": \"Region=Europe<br>HDI=%{x}<br>count=%{y}<extra></extra>\", \"legendgroup\": \"Europe\", \"marker\": {\"color\": \"#EF553B\"}, \"name\": \"Europe\", \"nbinsx\": 100, \"offsetgroup\": \"Europe\", \"orientation\": \"v\", \"showlegend\": true, \"type\": \"histogram\", \"x\": [0.706, 0.713, 0.722, 0.728, 0.745, 0.764, 0.775, 0.782, 0.787, 0.788, 0.788, 0.79, 0.792, 0.795, 0.847, 0.857, 0.847, 0.851, 0.858, 0.863, 0.87, 0.89, 0.893, 0.895, 0.904, 0.906, 0.908, 0.905, 0.913, 0.915, 0.917, 0.919, 0.921, 0.922, 0.707, 0.717, 0.727, 0.744, 0.76, 0.777, 0.787, 0.795, 0.801, 0.806, 0.811, 0.814, 0.814, 0.815, 0.819, 0.823, 0.823, 0.88, 0.883, 0.886, 0.889, 0.893, 0.897, 0.904, 0.907, 0.906, 0.907, 0.91, 0.911, 0.913, 0.916, 0.918, 0.922, 0.924, 0.929, 0.93, 0.931, 0.72, 0.73, 0.736, 0.745, 0.752, 0.758, 0.765, 0.773, 0.78, 0.782, 0.788, 0.791, 0.795, 0.801, 0.806, 0.809, 0.811, 0.811, 0.813, 0.816, 0.757, 0.768, 0.774, 0.78, 0.786, 0.792, 0.798, 0.808, 0.813, 0.812, 0.815, 0.823, 0.825, 0.83, 0.835, 0.84, 0.841, 0.845, 0.848, 0.851, 0.804, 0.81, 0.819, 0.828, 0.831, 0.836, 0.842, 0.849, 0.858, 0.862, 0.856, 0.86, 0.859, 0.86, 0.862, 0.865, 0.873, 0.878, 0.885, 0.887, 0.87, 0.883, 0.89, 0.901, 0.905, 0.91, 0.912, 0.911, 0.917, 0.914, 0.917, 0.93, 0.931, 0.933, 0.935, 0.933, 0.935, 0.936, 0.939, 0.94, 0.787, 0.797, 0.805, 0.813, 0.821, 0.832, 0.839, 0.846, 0.848, 0.846, 0.852, 0.86, 0.865, 0.869, 0.871, 0.877, 0.881, 0.885, 0.889, 0.892, 0.864, 0.871, 0.874, 0.877, 0.904, 0.908, 0.912, 0.915, 0.917, 0.912, 0.916, 0.92, 0.921, 0.928, 0.928, 0.93, 0.932, 0.935, 0.937, 0.938, 0.849, 0.851, 0.852, 0.855, 0.858, 0.867, 0.871, 0.874, 0.875, 0.876, 0.879, 0.882, 0.885, 0.889, 0.893, 0.895, 0.894, 0.897, 0.898, 0.901, 0.69, 0.694, 0.699, 0.708, 0.715, 0.725, 0.731, 0.743, 0.742, 0.746, 0.751, 0.757, 0.767, 0.775, 0.783, 0.79, 0.792, 0.799, 0.805, 0.812, 0.876, 0.884, 0.89, 0.896, 0.907, 0.908, 0.918, 0.921, 0.924, 0.924, 0.927, 0.933, 0.934, 0.935, 0.937, 0.938, 0.941, 0.943, 0.946, 0.947, 0.804, 0.814, 0.826, 0.833, 0.843, 0.853, 0.859, 0.857, 0.865, 0.867, 0.865, 0.862, 0.865, 0.867, 0.875, 0.877, 0.874, 0.879, 0.881, 0.888, 0.772, 0.781, 0.788, 0.797, 0.799, 0.805, 0.815, 0.818, 0.822, 0.828, 0.831, 0.828, 0.831, 0.839, 0.838, 0.842, 0.844, 0.846, 0.85, 0.854, 0.867, 0.872, 0.881, 0.887, 0.891, 0.896, 0.899, 0.905, 0.899, 0.898, 0.898, 0.907, 0.915, 0.927, 0.931, 0.934, 0.941, 0.943, 0.946, 0.949, 0.867, 0.873, 0.881, 0.889, 0.898, 0.904, 0.906, 0.909, 0.911, 0.906, 0.901, 0.902, 0.908, 0.917, 0.928, 0.935, 0.943, 0.947, 0.951, 0.955, 0.838, 0.845, 0.85, 0.855, 0.86, 0.865, 0.87, 0.874, 0.876, 0.876, 0.879, 0.883, 0.882, 0.881, 0.882, 0.882, 0.884, 0.886, 0.89, 0.892, 0.735, 0.753, 0.767, 0.781, 0.795, 0.809, 0.816, 0.825, 0.828, 0.826, 0.824, 0.829, 0.832, 0.839, 0.845, 0.849, 0.854, 0.859, 0.863, 0.866, 0.762, 0.774, 0.785, 0.797, 0.805, 0.817, 0.826, 0.833, 0.838, 0.828, 0.831, 0.838, 0.841, 0.847, 0.859, 0.862, 0.867, 0.873, 0.876, 0.882, 0.86, 0.865, 0.869, 0.873, 0.876, 0.88, 0.884, 0.888, 0.89, 0.893, 0.898, 0.899, 0.9, 0.9, 0.903, 0.906, 0.91, 0.913, 0.913, 0.916, 0.795, 0.801, 0.804, 0.81, 0.819, 0.834, 0.832, 0.837, 0.839, 0.84, 0.853, 0.853, 0.86, 0.867, 0.874, 0.88, 0.885, 0.888, 0.894, 0.895, 0.882, 0.886, 0.885, 0.89, 0.892, 0.897, 0.903, 0.91, 0.913, 0.912, 0.917, 0.928, 0.928, 0.93, 0.932, 0.934, 0.936, 0.939, 0.942, 0.944, 0.915, 0.914, 0.917, 0.923, 0.932, 0.931, 0.934, 0.936, 0.937, 0.937, 0.94, 0.942, 0.941, 0.944, 0.944, 0.947, 0.95, 0.954, 0.956, 0.957, 0.79, 0.796, 0.804, 0.809, 0.807, 0.813, 0.819, 0.824, 0.829, 0.834, 0.84, 0.845, 0.842, 0.856, 0.858, 0.863, 0.869, 0.873, 0.877, 0.88, 0.792, 0.798, 0.799, 0.805, 0.809, 0.813, 0.811, 0.814, 0.817, 0.823, 0.829, 0.833, 0.836, 0.84, 0.847, 0.854, 0.855, 0.858, 0.86, 0.864, 0.716, 0.722, 0.731, 0.739, 0.753, 0.762, 0.774, 0.788, 0.803, 0.806, 0.805, 0.806, 0.803, 0.808, 0.811, 0.815, 0.82, 0.821, 0.823, 0.828, 0.722, 0.728, 0.734, 0.742, 0.748, 0.753, 0.76, 0.775, 0.773, 0.781, 0.79, 0.798, 0.802, 0.807, 0.809, 0.815, 0.82, 0.823, 0.824, 0.758, 0.764, 0.766, 0.766, 0.776, 0.775, 0.765, 0.766, 0.773, 0.778, 0.786, 0.796, 0.805, 0.816, 0.823, 0.825, 0.831, 0.838, 0.843, 0.845, 0.847, 0.85, 0.853, 0.855, 0.858, 0.86, 0.832, 0.843, 0.85, 0.857, 0.864, 0.869, 0.876, 0.88, 0.886, 0.885, 0.889, 0.891, 0.884, 0.893, 0.894, 0.894, 0.9, 0.907, 0.912, 0.917, 0.832, 0.835, 0.837, 0.84, 0.844, 0.851, 0.856, 0.86, 0.863, 0.865, 0.872, 0.878, 0.881, 0.882, 0.888, 0.895, 0.899, 0.903, 0.905, 0.904, 0.903, 0.905, 0.908, 0.913, 0.901, 0.904, 0.908, 0.91, 0.907, 0.905, 0.911, 0.912, 0.914, 0.933, 0.935, 0.938, 0.94, 0.942, 0.943, 0.945, 0.898, 0.9, 0.899, 0.905, 0.909, 0.914, 0.92, 0.923, 0.925, 0.935, 0.941, 0.941, 0.944, 0.946, 0.942, 0.947, 0.947, 0.949, 0.955, 0.955, 0.714, 0.72, 0.739, 0.753, 0.765, 0.785, 0.796, 0.801, 0.808, 0.814, 0.817, 0.82, 0.708, 0.717, 0.725, 0.732, 0.738, 0.744, 0.751, 0.755, 0.749, 0.755, 0.76, 0.764, 0.767, 0.771, 0.765, 0.768, 0.771, 0.774, 0.779, 0.874, 0.878, 0.881, 0.885, 0.892, 0.897, 0.896, 0.899, 0.903, 0.906, 0.912, 0.906, 0.904, 0.921, 0.925, 0.923, 0.924, 0.926, 0.928, 0.932], \"xaxis\": \"x\", \"yaxis\": \"y\"}, {\"alignmentgroup\": \"True\", \"bingroup\": \"x\", \"hovertemplate\": \"Region=South/Latin America<br>HDI=%{x}<br>count=%{y}<extra></extra>\", \"legendgroup\": \"South/Latin America\", \"marker\": {\"color\": \"#00cc96\"}, \"name\": \"South/Latin America\", \"nbinsx\": 100, \"offsetgroup\": \"South/Latin America\", \"orientation\": \"v\", \"showlegend\": true, \"type\": \"histogram\", \"x\": [0.637, 0.64, 0.641, 0.643, 0.649, 0.649, 0.627, 0.633, 0.646, 0.652, 0.655, 0.656, 0.668, 0.664, 0.669, 0.67, 0.668, 0.668, 0.671, 0.671, 0.67, 0.673, 0.648, 0.652, 0.653, 0.655, 0.657, 0.663], \"xaxis\": \"x\", \"yaxis\": \"y\"}, {\"alignmentgroup\": \"True\", \"bingroup\": \"x\", \"hovertemplate\": \"Region=North America<br>HDI=%{x}<br>count=%{y}<extra></extra>\", \"legendgroup\": \"North America\", \"marker\": {\"color\": \"#ab63fa\"}, \"name\": \"North America\", \"nbinsx\": 100, \"offsetgroup\": \"North America\", \"orientation\": \"v\", \"showlegend\": true, \"type\": \"histogram\", \"x\": [0.898, 0.898, 0.901, 0.903, 0.906, 0.913, 0.918, 0.921, 0.923, 0.926, 0.928, 0.929, 0.886, 0.889, 0.891, 0.894, 0.897, 0.9, 0.903, 0.906, 0.911, 0.912, 0.916, 0.919, 0.92, 0.918, 0.92, 0.921, 0.922, 0.924, 0.925], \"xaxis\": \"x\", \"yaxis\": \"y\"}, {\"alignmentgroup\": \"True\", \"bingroup\": \"x\", \"hovertemplate\": \"Region=Middle east<br>HDI=%{x}<br>count=%{y}<extra></extra>\", \"legendgroup\": \"Middle east\", \"marker\": {\"color\": \"#FFA15A\"}, \"name\": \"Middle east\", \"nbinsx\": 100, \"offsetgroup\": \"Middle east\", \"orientation\": \"v\", \"showlegend\": true, \"type\": \"histogram\", \"x\": [0.622, 0.625, 0.631, 0.637, 0.645, 0.653, 0.66, 0.662, 0.668, 0.671, 0.677, 0.683, 0.685, 0.691, 0.861, 0.865, 0.873, 0.874, 0.876, 0.88, 0.88, 0.889, 0.889, 0.89, 0.895, 0.901, 0.903, 0.905, 0.909, 0.91, 0.913, 0.913, 0.916, 0.919, 0.778, 0.78, 0.788, 0.789, 0.783, 0.788, 0.826, 0.832, 0.838, 0.847, 0.859, 0.864, 0.881, 0.889, 0.89], \"xaxis\": \"x\", \"yaxis\": \"y\"}, {\"alignmentgroup\": \"True\", \"bingroup\": \"x\", \"hovertemplate\": \"Region=Africa<br>HDI=%{x}<br>count=%{y}<extra></extra>\", \"legendgroup\": \"Africa\", \"marker\": {\"color\": \"#19d3f3\"}, \"name\": \"Africa\", \"nbinsx\": 100, \"offsetgroup\": \"Africa\", \"orientation\": \"v\", \"showlegend\": true, \"type\": \"histogram\", \"x\": [0.692, 0.701, 0.708, 0.717, 0.724, 0.731, 0.738, 0.745, 0.751, 0.76, 0.771, 0.779, 0.789, 0.789, 0.794, 0.797, 0.801, 0.804, 0.714, 0.722, 0.745, 0.75, 0.754, 0.764, 0.767, 0.755, 0.775, 0.775, 0.786, 0.787, 0.79, 0.631, 0.611, 0.619, 0.619, 0.619, 0.622, 0.626, 0.632, 0.646, 0.655, 0.664, 0.665, 0.675, 0.685, 0.693, 0.701, 0.703, 0.705, 0.707, 0.709], \"xaxis\": \"x\", \"yaxis\": \"y\"}],                        {\"barmode\": \"relative\", \"legend\": {\"title\": {\"text\": \"Region\"}, \"tracegroupgap\": 0}, \"margin\": {\"t\": 60}, \"template\": {\"data\": {\"bar\": [{\"error_x\": {\"color\": \"#2a3f5f\"}, \"error_y\": {\"color\": \"#2a3f5f\"}, \"marker\": {\"line\": {\"color\": \"#E5ECF6\", \"width\": 0.5}}, \"type\": \"bar\"}], \"barpolar\": [{\"marker\": {\"line\": {\"color\": \"#E5ECF6\", \"width\": 0.5}}, \"type\": \"barpolar\"}], \"carpet\": [{\"aaxis\": {\"endlinecolor\": \"#2a3f5f\", \"gridcolor\": \"white\", \"linecolor\": \"white\", \"minorgridcolor\": \"white\", \"startlinecolor\": \"#2a3f5f\"}, \"baxis\": {\"endlinecolor\": \"#2a3f5f\", \"gridcolor\": \"white\", \"linecolor\": \"white\", \"minorgridcolor\": \"white\", \"startlinecolor\": \"#2a3f5f\"}, \"type\": \"carpet\"}], \"choropleth\": [{\"colorbar\": {\"outlinewidth\": 0, \"ticks\": \"\"}, \"type\": \"choropleth\"}], \"contour\": [{\"colorbar\": {\"outlinewidth\": 0, \"ticks\": \"\"}, \"colorscale\": [[0.0, \"#0d0887\"], [0.1111111111111111, \"#46039f\"], [0.2222222222222222, \"#7201a8\"], [0.3333333333333333, \"#9c179e\"], [0.4444444444444444, \"#bd3786\"], [0.5555555555555556, \"#d8576b\"], [0.6666666666666666, \"#ed7953\"], [0.7777777777777778, \"#fb9f3a\"], [0.8888888888888888, \"#fdca26\"], [1.0, \"#f0f921\"]], \"type\": \"contour\"}], \"contourcarpet\": [{\"colorbar\": {\"outlinewidth\": 0, \"ticks\": \"\"}, \"type\": \"contourcarpet\"}], \"heatmap\": [{\"colorbar\": {\"outlinewidth\": 0, \"ticks\": \"\"}, \"colorscale\": [[0.0, \"#0d0887\"], [0.1111111111111111, \"#46039f\"], [0.2222222222222222, \"#7201a8\"], [0.3333333333333333, \"#9c179e\"], [0.4444444444444444, \"#bd3786\"], [0.5555555555555556, \"#d8576b\"], [0.6666666666666666, \"#ed7953\"], [0.7777777777777778, \"#fb9f3a\"], [0.8888888888888888, \"#fdca26\"], [1.0, \"#f0f921\"]], \"type\": \"heatmap\"}], \"heatmapgl\": [{\"colorbar\": {\"outlinewidth\": 0, \"ticks\": \"\"}, \"colorscale\": [[0.0, \"#0d0887\"], [0.1111111111111111, \"#46039f\"], [0.2222222222222222, \"#7201a8\"], [0.3333333333333333, \"#9c179e\"], [0.4444444444444444, \"#bd3786\"], [0.5555555555555556, \"#d8576b\"], [0.6666666666666666, \"#ed7953\"], [0.7777777777777778, \"#fb9f3a\"], [0.8888888888888888, \"#fdca26\"], [1.0, \"#f0f921\"]], \"type\": \"heatmapgl\"}], \"histogram\": [{\"marker\": {\"colorbar\": {\"outlinewidth\": 0, \"ticks\": \"\"}}, \"type\": \"histogram\"}], \"histogram2d\": [{\"colorbar\": {\"outlinewidth\": 0, \"ticks\": \"\"}, \"colorscale\": [[0.0, \"#0d0887\"], [0.1111111111111111, \"#46039f\"], [0.2222222222222222, \"#7201a8\"], [0.3333333333333333, \"#9c179e\"], [0.4444444444444444, \"#bd3786\"], [0.5555555555555556, \"#d8576b\"], [0.6666666666666666, \"#ed7953\"], [0.7777777777777778, \"#fb9f3a\"], [0.8888888888888888, \"#fdca26\"], [1.0, \"#f0f921\"]], \"type\": \"histogram2d\"}], \"histogram2dcontour\": [{\"colorbar\": {\"outlinewidth\": 0, \"ticks\": \"\"}, \"colorscale\": [[0.0, \"#0d0887\"], [0.1111111111111111, \"#46039f\"], [0.2222222222222222, \"#7201a8\"], [0.3333333333333333, \"#9c179e\"], [0.4444444444444444, \"#bd3786\"], [0.5555555555555556, \"#d8576b\"], [0.6666666666666666, \"#ed7953\"], [0.7777777777777778, \"#fb9f3a\"], [0.8888888888888888, \"#fdca26\"], [1.0, \"#f0f921\"]], \"type\": \"histogram2dcontour\"}], \"mesh3d\": [{\"colorbar\": {\"outlinewidth\": 0, \"ticks\": \"\"}, \"type\": \"mesh3d\"}], \"parcoords\": [{\"line\": {\"colorbar\": {\"outlinewidth\": 0, \"ticks\": \"\"}}, \"type\": \"parcoords\"}], \"pie\": [{\"automargin\": true, \"type\": \"pie\"}], \"scatter\": [{\"marker\": {\"colorbar\": {\"outlinewidth\": 0, \"ticks\": \"\"}}, \"type\": \"scatter\"}], \"scatter3d\": [{\"line\": {\"colorbar\": {\"outlinewidth\": 0, \"ticks\": \"\"}}, \"marker\": {\"colorbar\": {\"outlinewidth\": 0, \"ticks\": \"\"}}, \"type\": \"scatter3d\"}], \"scattercarpet\": [{\"marker\": {\"colorbar\": {\"outlinewidth\": 0, \"ticks\": \"\"}}, \"type\": \"scattercarpet\"}], \"scattergeo\": [{\"marker\": {\"colorbar\": {\"outlinewidth\": 0, \"ticks\": \"\"}}, \"type\": \"scattergeo\"}], \"scattergl\": [{\"marker\": {\"colorbar\": {\"outlinewidth\": 0, \"ticks\": \"\"}}, \"type\": \"scattergl\"}], \"scattermapbox\": [{\"marker\": {\"colorbar\": {\"outlinewidth\": 0, \"ticks\": \"\"}}, \"type\": \"scattermapbox\"}], \"scatterpolar\": [{\"marker\": {\"colorbar\": {\"outlinewidth\": 0, \"ticks\": \"\"}}, \"type\": \"scatterpolar\"}], \"scatterpolargl\": [{\"marker\": {\"colorbar\": {\"outlinewidth\": 0, \"ticks\": \"\"}}, \"type\": \"scatterpolargl\"}], \"scatterternary\": [{\"marker\": {\"colorbar\": {\"outlinewidth\": 0, \"ticks\": \"\"}}, \"type\": \"scatterternary\"}], \"surface\": [{\"colorbar\": {\"outlinewidth\": 0, \"ticks\": \"\"}, \"colorscale\": [[0.0, \"#0d0887\"], [0.1111111111111111, \"#46039f\"], [0.2222222222222222, \"#7201a8\"], [0.3333333333333333, \"#9c179e\"], [0.4444444444444444, \"#bd3786\"], [0.5555555555555556, \"#d8576b\"], [0.6666666666666666, \"#ed7953\"], [0.7777777777777778, \"#fb9f3a\"], [0.8888888888888888, \"#fdca26\"], [1.0, \"#f0f921\"]], \"type\": \"surface\"}], \"table\": [{\"cells\": {\"fill\": {\"color\": \"#EBF0F8\"}, \"line\": {\"color\": \"white\"}}, \"header\": {\"fill\": {\"color\": \"#C8D4E3\"}, \"line\": {\"color\": \"white\"}}, \"type\": \"table\"}]}, \"layout\": {\"annotationdefaults\": {\"arrowcolor\": \"#2a3f5f\", \"arrowhead\": 0, \"arrowwidth\": 1}, \"autotypenumbers\": \"strict\", \"coloraxis\": {\"colorbar\": {\"outlinewidth\": 0, \"ticks\": \"\"}}, \"colorscale\": {\"diverging\": [[0, \"#8e0152\"], [0.1, \"#c51b7d\"], [0.2, \"#de77ae\"], [0.3, \"#f1b6da\"], [0.4, \"#fde0ef\"], [0.5, \"#f7f7f7\"], [0.6, \"#e6f5d0\"], [0.7, \"#b8e186\"], [0.8, \"#7fbc41\"], [0.9, \"#4d9221\"], [1, \"#276419\"]], \"sequential\": [[0.0, \"#0d0887\"], [0.1111111111111111, \"#46039f\"], [0.2222222222222222, \"#7201a8\"], [0.3333333333333333, \"#9c179e\"], [0.4444444444444444, \"#bd3786\"], [0.5555555555555556, \"#d8576b\"], [0.6666666666666666, \"#ed7953\"], [0.7777777777777778, \"#fb9f3a\"], [0.8888888888888888, \"#fdca26\"], [1.0, \"#f0f921\"]], \"sequentialminus\": [[0.0, \"#0d0887\"], [0.1111111111111111, \"#46039f\"], [0.2222222222222222, \"#7201a8\"], [0.3333333333333333, \"#9c179e\"], [0.4444444444444444, \"#bd3786\"], [0.5555555555555556, \"#d8576b\"], [0.6666666666666666, \"#ed7953\"], [0.7777777777777778, \"#fb9f3a\"], [0.8888888888888888, \"#fdca26\"], [1.0, \"#f0f921\"]]}, \"colorway\": [\"#636efa\", \"#EF553B\", \"#00cc96\", \"#ab63fa\", \"#FFA15A\", \"#19d3f3\", \"#FF6692\", \"#B6E880\", \"#FF97FF\", \"#FECB52\"], \"font\": {\"color\": \"#2a3f5f\"}, \"geo\": {\"bgcolor\": \"white\", \"lakecolor\": \"white\", \"landcolor\": \"#E5ECF6\", \"showlakes\": true, \"showland\": true, \"subunitcolor\": \"white\"}, \"hoverlabel\": {\"align\": \"left\"}, \"hovermode\": \"closest\", \"mapbox\": {\"style\": \"light\"}, \"paper_bgcolor\": \"white\", \"plot_bgcolor\": \"#E5ECF6\", \"polar\": {\"angularaxis\": {\"gridcolor\": \"white\", \"linecolor\": \"white\", \"ticks\": \"\"}, \"bgcolor\": \"#E5ECF6\", \"radialaxis\": {\"gridcolor\": \"white\", \"linecolor\": \"white\", \"ticks\": \"\"}}, \"scene\": {\"xaxis\": {\"backgroundcolor\": \"#E5ECF6\", \"gridcolor\": \"white\", \"gridwidth\": 2, \"linecolor\": \"white\", \"showbackground\": true, \"ticks\": \"\", \"zerolinecolor\": \"white\"}, \"yaxis\": {\"backgroundcolor\": \"#E5ECF6\", \"gridcolor\": \"white\", \"gridwidth\": 2, \"linecolor\": \"white\", \"showbackground\": true, \"ticks\": \"\", \"zerolinecolor\": \"white\"}, \"zaxis\": {\"backgroundcolor\": \"#E5ECF6\", \"gridcolor\": \"white\", \"gridwidth\": 2, \"linecolor\": \"white\", \"showbackground\": true, \"ticks\": \"\", \"zerolinecolor\": \"white\"}}, \"shapedefaults\": {\"line\": {\"color\": \"#2a3f5f\"}}, \"ternary\": {\"aaxis\": {\"gridcolor\": \"white\", \"linecolor\": \"white\", \"ticks\": \"\"}, \"baxis\": {\"gridcolor\": \"white\", \"linecolor\": \"white\", \"ticks\": \"\"}, \"bgcolor\": \"#E5ECF6\", \"caxis\": {\"gridcolor\": \"white\", \"linecolor\": \"white\", \"ticks\": \"\"}}, \"title\": {\"x\": 0.05}, \"xaxis\": {\"automargin\": true, \"gridcolor\": \"white\", \"linecolor\": \"white\", \"ticks\": \"\", \"title\": {\"standoff\": 15}, \"zerolinecolor\": \"white\", \"zerolinewidth\": 2}, \"yaxis\": {\"automargin\": true, \"gridcolor\": \"white\", \"linecolor\": \"white\", \"ticks\": \"\", \"title\": {\"standoff\": 15}, \"zerolinecolor\": \"white\", \"zerolinewidth\": 2}}}, \"xaxis\": {\"anchor\": \"y\", \"domain\": [0.0, 1.0], \"title\": {\"text\": \"HDI\"}}, \"yaxis\": {\"anchor\": \"x\", \"domain\": [0.0, 1.0], \"title\": {\"text\": \"count\"}}},                        {\"responsive\": true}                    ).then(function(){\n",
       "                            \n",
       "var gd = document.getElementById('29cd084e-a1c3-4c94-abb1-31d3cd02dc7b');\n",
       "var x = new MutationObserver(function (mutations, observer) {{\n",
       "        var display = window.getComputedStyle(gd).display;\n",
       "        if (!display || display === 'none') {{\n",
       "            console.log([gd, 'removed!']);\n",
       "            Plotly.purge(gd);\n",
       "            observer.disconnect();\n",
       "        }}\n",
       "}});\n",
       "\n",
       "// Listen for the removal of the full notebook cells\n",
       "var notebookContainer = gd.closest('#notebook-container');\n",
       "if (notebookContainer) {{\n",
       "    x.observe(notebookContainer, {childList: true});\n",
       "}}\n",
       "\n",
       "// Listen for the clearing of the current output cell\n",
       "var outputEl = gd.closest('.output');\n",
       "if (outputEl) {{\n",
       "    x.observe(outputEl, {childList: true});\n",
       "}}\n",
       "\n",
       "                        })                };                });            </script>        </div>"
      ]
     },
     "metadata": {},
     "output_type": "display_data"
    }
   ],
   "source": [
    "import plotly.express as px\n",
    "\n",
    "fig = px.histogram(df, x=\"HDI\", color = 'Region',  nbins = 100)\n",
    "\n",
    "fig.show()\n",
    "\n",
    "# It's skewed!\n",
    "\n"
   ]
  },
  {
   "cell_type": "code",
   "execution_count": 26,
   "id": "625bbaa2",
   "metadata": {},
   "outputs": [
    {
     "data": {
      "text/plain": [
       "count    1075.000000\n",
       "mean        0.534492\n",
       "std         0.296970\n",
       "min         0.000000\n",
       "25%         0.263158\n",
       "50%         0.578947\n",
       "75%         0.789474\n",
       "max         1.000000\n",
       "Name: Opa, dtype: float64"
      ]
     },
     "execution_count": 26,
     "metadata": {},
     "output_type": "execute_result"
    }
   ],
   "source": [
    "df['Opa'].describe()"
   ]
  },
  {
   "cell_type": "code",
   "execution_count": 27,
   "id": "882a65e7",
   "metadata": {
    "scrolled": false
   },
   "outputs": [
    {
     "data": {
      "application/vnd.plotly.v1+json": {
       "config": {
        "plotlyServerURL": "https://plot.ly"
       },
       "data": [
        {
         "hovertemplate": "<b>%{hovertext}</b><br><br>GDP per capita=%{x}<br>HDI=%{y}<extra></extra>",
         "hovertext": [
          "Albania",
          "Australia",
          "Austria",
          "Azerbaijan",
          "Belarus",
          "Belgium",
          "Bulgaria",
          "Canada",
          "Hong Kong",
          "China",
          "Croatia",
          "Cyprus",
          "Denmark",
          "El Salvador",
          "Estonia",
          "Finland",
          "France",
          "Georgia",
          "Germany",
          "Greece",
          "Guatemala",
          "Hungary",
          "Iceland",
          "Indonesia",
          "Ireland",
          "Israel",
          "Italy",
          "Japan",
          "Kazakhstan",
          "Kiribati",
          "Kyrgyzstan",
          "Latvia",
          "Lithuania",
          "Luxembourg",
          "Malta",
          "Mauritius",
          "Mongolia",
          "Myanmar",
          "Netherlands",
          "New Zealand",
          "Norway",
          "Poland",
          "Portugal",
          "Romania",
          "Russian Federation",
          "Singapore",
          "Slovakia",
          "Slovenia",
          "South Africa",
          "Spain",
          "Sweden",
          "Switzerland",
          "Thailand",
          "Turkey",
          "Ukraine",
          "United Arab Emirates",
          "United Kingdom",
          "Uzbekistan"
         ],
         "legendgroup": "",
         "marker": {
          "color": "#636efa",
          "symbol": "circle"
         },
         "mode": "markers",
         "name": "",
         "orientation": "v",
         "showlegend": false,
         "type": "scatter",
         "x": [
          13656.59277,
          49309.11328,
          55833.55859,
          14442.04102,
          19279.20898,
          51944.16797,
          23265.87695,
          49171.51172,
          59586.20313,
          15977.64551,
          29336.08594,
          41521.92188,
          57161.6875,
          8776.119141,
          36401.10938,
          48582.58594,
          46017.76563,
          14989.25781,
          53929.64063,
          29698.03125,
          8653.308594,
          32553.69531,
          56935.77344,
          11811.97559,
          86650.00781,
          40626.21484,
          42708.03516,
          42022.48828,
          26351.80469,
          2340.389893,
          5258.366699,
          31012.13477,
          37166.21094,
          116518.2734,
          43950.61719,
          22869.75586,
          12486.07715,
          4739.710449,
          56784.03906,
          42877.94141,
          64385.00781,
          33185.15625,
          34945.66016,
          29875.0625,
          27210.54688,
          98411.58594,
          31927.59375,
          38946.68359,
          13709.9668,
          40802.48828,
          52850.57031,
          70944.35156,
          18453.4707,
          28197.24805,
          12804.95508,
          68263.67188,
          47368.58594,
          7348.146973
         ],
         "xaxis": "x",
         "y": [
          0.795,
          0.944,
          0.922,
          0.756,
          0.823,
          0.931,
          0.816,
          0.929,
          0.949,
          0.761,
          0.851,
          0.887,
          0.94,
          0.673,
          0.892,
          0.938,
          0.901,
          0.812,
          0.947,
          0.888,
          0.663,
          0.854,
          0.949,
          0.718,
          0.955,
          0.919,
          0.892,
          0.919,
          0.825,
          0.63,
          0.697,
          0.866,
          0.882,
          0.916,
          0.895,
          0.804,
          0.737,
          0.583,
          0.944,
          0.931,
          0.957,
          0.88,
          0.864,
          0.828,
          0.824,
          0.938,
          0.86,
          0.917,
          0.709,
          0.904,
          0.945,
          0.955,
          0.777,
          0.82,
          0.779,
          0.89,
          0.932,
          0.72
         ],
         "yaxis": "y"
        }
       ],
       "layout": {
        "legend": {
         "tracegroupgap": 0
        },
        "margin": {
         "t": 60
        },
        "template": {
         "data": {
          "bar": [
           {
            "error_x": {
             "color": "#2a3f5f"
            },
            "error_y": {
             "color": "#2a3f5f"
            },
            "marker": {
             "line": {
              "color": "#E5ECF6",
              "width": 0.5
             }
            },
            "type": "bar"
           }
          ],
          "barpolar": [
           {
            "marker": {
             "line": {
              "color": "#E5ECF6",
              "width": 0.5
             }
            },
            "type": "barpolar"
           }
          ],
          "carpet": [
           {
            "aaxis": {
             "endlinecolor": "#2a3f5f",
             "gridcolor": "white",
             "linecolor": "white",
             "minorgridcolor": "white",
             "startlinecolor": "#2a3f5f"
            },
            "baxis": {
             "endlinecolor": "#2a3f5f",
             "gridcolor": "white",
             "linecolor": "white",
             "minorgridcolor": "white",
             "startlinecolor": "#2a3f5f"
            },
            "type": "carpet"
           }
          ],
          "choropleth": [
           {
            "colorbar": {
             "outlinewidth": 0,
             "ticks": ""
            },
            "type": "choropleth"
           }
          ],
          "contour": [
           {
            "colorbar": {
             "outlinewidth": 0,
             "ticks": ""
            },
            "colorscale": [
             [
              0,
              "#0d0887"
             ],
             [
              0.1111111111111111,
              "#46039f"
             ],
             [
              0.2222222222222222,
              "#7201a8"
             ],
             [
              0.3333333333333333,
              "#9c179e"
             ],
             [
              0.4444444444444444,
              "#bd3786"
             ],
             [
              0.5555555555555556,
              "#d8576b"
             ],
             [
              0.6666666666666666,
              "#ed7953"
             ],
             [
              0.7777777777777778,
              "#fb9f3a"
             ],
             [
              0.8888888888888888,
              "#fdca26"
             ],
             [
              1,
              "#f0f921"
             ]
            ],
            "type": "contour"
           }
          ],
          "contourcarpet": [
           {
            "colorbar": {
             "outlinewidth": 0,
             "ticks": ""
            },
            "type": "contourcarpet"
           }
          ],
          "heatmap": [
           {
            "colorbar": {
             "outlinewidth": 0,
             "ticks": ""
            },
            "colorscale": [
             [
              0,
              "#0d0887"
             ],
             [
              0.1111111111111111,
              "#46039f"
             ],
             [
              0.2222222222222222,
              "#7201a8"
             ],
             [
              0.3333333333333333,
              "#9c179e"
             ],
             [
              0.4444444444444444,
              "#bd3786"
             ],
             [
              0.5555555555555556,
              "#d8576b"
             ],
             [
              0.6666666666666666,
              "#ed7953"
             ],
             [
              0.7777777777777778,
              "#fb9f3a"
             ],
             [
              0.8888888888888888,
              "#fdca26"
             ],
             [
              1,
              "#f0f921"
             ]
            ],
            "type": "heatmap"
           }
          ],
          "heatmapgl": [
           {
            "colorbar": {
             "outlinewidth": 0,
             "ticks": ""
            },
            "colorscale": [
             [
              0,
              "#0d0887"
             ],
             [
              0.1111111111111111,
              "#46039f"
             ],
             [
              0.2222222222222222,
              "#7201a8"
             ],
             [
              0.3333333333333333,
              "#9c179e"
             ],
             [
              0.4444444444444444,
              "#bd3786"
             ],
             [
              0.5555555555555556,
              "#d8576b"
             ],
             [
              0.6666666666666666,
              "#ed7953"
             ],
             [
              0.7777777777777778,
              "#fb9f3a"
             ],
             [
              0.8888888888888888,
              "#fdca26"
             ],
             [
              1,
              "#f0f921"
             ]
            ],
            "type": "heatmapgl"
           }
          ],
          "histogram": [
           {
            "marker": {
             "colorbar": {
              "outlinewidth": 0,
              "ticks": ""
             }
            },
            "type": "histogram"
           }
          ],
          "histogram2d": [
           {
            "colorbar": {
             "outlinewidth": 0,
             "ticks": ""
            },
            "colorscale": [
             [
              0,
              "#0d0887"
             ],
             [
              0.1111111111111111,
              "#46039f"
             ],
             [
              0.2222222222222222,
              "#7201a8"
             ],
             [
              0.3333333333333333,
              "#9c179e"
             ],
             [
              0.4444444444444444,
              "#bd3786"
             ],
             [
              0.5555555555555556,
              "#d8576b"
             ],
             [
              0.6666666666666666,
              "#ed7953"
             ],
             [
              0.7777777777777778,
              "#fb9f3a"
             ],
             [
              0.8888888888888888,
              "#fdca26"
             ],
             [
              1,
              "#f0f921"
             ]
            ],
            "type": "histogram2d"
           }
          ],
          "histogram2dcontour": [
           {
            "colorbar": {
             "outlinewidth": 0,
             "ticks": ""
            },
            "colorscale": [
             [
              0,
              "#0d0887"
             ],
             [
              0.1111111111111111,
              "#46039f"
             ],
             [
              0.2222222222222222,
              "#7201a8"
             ],
             [
              0.3333333333333333,
              "#9c179e"
             ],
             [
              0.4444444444444444,
              "#bd3786"
             ],
             [
              0.5555555555555556,
              "#d8576b"
             ],
             [
              0.6666666666666666,
              "#ed7953"
             ],
             [
              0.7777777777777778,
              "#fb9f3a"
             ],
             [
              0.8888888888888888,
              "#fdca26"
             ],
             [
              1,
              "#f0f921"
             ]
            ],
            "type": "histogram2dcontour"
           }
          ],
          "mesh3d": [
           {
            "colorbar": {
             "outlinewidth": 0,
             "ticks": ""
            },
            "type": "mesh3d"
           }
          ],
          "parcoords": [
           {
            "line": {
             "colorbar": {
              "outlinewidth": 0,
              "ticks": ""
             }
            },
            "type": "parcoords"
           }
          ],
          "pie": [
           {
            "automargin": true,
            "type": "pie"
           }
          ],
          "scatter": [
           {
            "marker": {
             "colorbar": {
              "outlinewidth": 0,
              "ticks": ""
             }
            },
            "type": "scatter"
           }
          ],
          "scatter3d": [
           {
            "line": {
             "colorbar": {
              "outlinewidth": 0,
              "ticks": ""
             }
            },
            "marker": {
             "colorbar": {
              "outlinewidth": 0,
              "ticks": ""
             }
            },
            "type": "scatter3d"
           }
          ],
          "scattercarpet": [
           {
            "marker": {
             "colorbar": {
              "outlinewidth": 0,
              "ticks": ""
             }
            },
            "type": "scattercarpet"
           }
          ],
          "scattergeo": [
           {
            "marker": {
             "colorbar": {
              "outlinewidth": 0,
              "ticks": ""
             }
            },
            "type": "scattergeo"
           }
          ],
          "scattergl": [
           {
            "marker": {
             "colorbar": {
              "outlinewidth": 0,
              "ticks": ""
             }
            },
            "type": "scattergl"
           }
          ],
          "scattermapbox": [
           {
            "marker": {
             "colorbar": {
              "outlinewidth": 0,
              "ticks": ""
             }
            },
            "type": "scattermapbox"
           }
          ],
          "scatterpolar": [
           {
            "marker": {
             "colorbar": {
              "outlinewidth": 0,
              "ticks": ""
             }
            },
            "type": "scatterpolar"
           }
          ],
          "scatterpolargl": [
           {
            "marker": {
             "colorbar": {
              "outlinewidth": 0,
              "ticks": ""
             }
            },
            "type": "scatterpolargl"
           }
          ],
          "scatterternary": [
           {
            "marker": {
             "colorbar": {
              "outlinewidth": 0,
              "ticks": ""
             }
            },
            "type": "scatterternary"
           }
          ],
          "surface": [
           {
            "colorbar": {
             "outlinewidth": 0,
             "ticks": ""
            },
            "colorscale": [
             [
              0,
              "#0d0887"
             ],
             [
              0.1111111111111111,
              "#46039f"
             ],
             [
              0.2222222222222222,
              "#7201a8"
             ],
             [
              0.3333333333333333,
              "#9c179e"
             ],
             [
              0.4444444444444444,
              "#bd3786"
             ],
             [
              0.5555555555555556,
              "#d8576b"
             ],
             [
              0.6666666666666666,
              "#ed7953"
             ],
             [
              0.7777777777777778,
              "#fb9f3a"
             ],
             [
              0.8888888888888888,
              "#fdca26"
             ],
             [
              1,
              "#f0f921"
             ]
            ],
            "type": "surface"
           }
          ],
          "table": [
           {
            "cells": {
             "fill": {
              "color": "#EBF0F8"
             },
             "line": {
              "color": "white"
             }
            },
            "header": {
             "fill": {
              "color": "#C8D4E3"
             },
             "line": {
              "color": "white"
             }
            },
            "type": "table"
           }
          ]
         },
         "layout": {
          "annotationdefaults": {
           "arrowcolor": "#2a3f5f",
           "arrowhead": 0,
           "arrowwidth": 1
          },
          "autotypenumbers": "strict",
          "coloraxis": {
           "colorbar": {
            "outlinewidth": 0,
            "ticks": ""
           }
          },
          "colorscale": {
           "diverging": [
            [
             0,
             "#8e0152"
            ],
            [
             0.1,
             "#c51b7d"
            ],
            [
             0.2,
             "#de77ae"
            ],
            [
             0.3,
             "#f1b6da"
            ],
            [
             0.4,
             "#fde0ef"
            ],
            [
             0.5,
             "#f7f7f7"
            ],
            [
             0.6,
             "#e6f5d0"
            ],
            [
             0.7,
             "#b8e186"
            ],
            [
             0.8,
             "#7fbc41"
            ],
            [
             0.9,
             "#4d9221"
            ],
            [
             1,
             "#276419"
            ]
           ],
           "sequential": [
            [
             0,
             "#0d0887"
            ],
            [
             0.1111111111111111,
             "#46039f"
            ],
            [
             0.2222222222222222,
             "#7201a8"
            ],
            [
             0.3333333333333333,
             "#9c179e"
            ],
            [
             0.4444444444444444,
             "#bd3786"
            ],
            [
             0.5555555555555556,
             "#d8576b"
            ],
            [
             0.6666666666666666,
             "#ed7953"
            ],
            [
             0.7777777777777778,
             "#fb9f3a"
            ],
            [
             0.8888888888888888,
             "#fdca26"
            ],
            [
             1,
             "#f0f921"
            ]
           ],
           "sequentialminus": [
            [
             0,
             "#0d0887"
            ],
            [
             0.1111111111111111,
             "#46039f"
            ],
            [
             0.2222222222222222,
             "#7201a8"
            ],
            [
             0.3333333333333333,
             "#9c179e"
            ],
            [
             0.4444444444444444,
             "#bd3786"
            ],
            [
             0.5555555555555556,
             "#d8576b"
            ],
            [
             0.6666666666666666,
             "#ed7953"
            ],
            [
             0.7777777777777778,
             "#fb9f3a"
            ],
            [
             0.8888888888888888,
             "#fdca26"
            ],
            [
             1,
             "#f0f921"
            ]
           ]
          },
          "colorway": [
           "#636efa",
           "#EF553B",
           "#00cc96",
           "#ab63fa",
           "#FFA15A",
           "#19d3f3",
           "#FF6692",
           "#B6E880",
           "#FF97FF",
           "#FECB52"
          ],
          "font": {
           "color": "#2a3f5f"
          },
          "geo": {
           "bgcolor": "white",
           "lakecolor": "white",
           "landcolor": "#E5ECF6",
           "showlakes": true,
           "showland": true,
           "subunitcolor": "white"
          },
          "hoverlabel": {
           "align": "left"
          },
          "hovermode": "closest",
          "mapbox": {
           "style": "light"
          },
          "paper_bgcolor": "white",
          "plot_bgcolor": "#E5ECF6",
          "polar": {
           "angularaxis": {
            "gridcolor": "white",
            "linecolor": "white",
            "ticks": ""
           },
           "bgcolor": "#E5ECF6",
           "radialaxis": {
            "gridcolor": "white",
            "linecolor": "white",
            "ticks": ""
           }
          },
          "scene": {
           "xaxis": {
            "backgroundcolor": "#E5ECF6",
            "gridcolor": "white",
            "gridwidth": 2,
            "linecolor": "white",
            "showbackground": true,
            "ticks": "",
            "zerolinecolor": "white"
           },
           "yaxis": {
            "backgroundcolor": "#E5ECF6",
            "gridcolor": "white",
            "gridwidth": 2,
            "linecolor": "white",
            "showbackground": true,
            "ticks": "",
            "zerolinecolor": "white"
           },
           "zaxis": {
            "backgroundcolor": "#E5ECF6",
            "gridcolor": "white",
            "gridwidth": 2,
            "linecolor": "white",
            "showbackground": true,
            "ticks": "",
            "zerolinecolor": "white"
           }
          },
          "shapedefaults": {
           "line": {
            "color": "#2a3f5f"
           }
          },
          "ternary": {
           "aaxis": {
            "gridcolor": "white",
            "linecolor": "white",
            "ticks": ""
           },
           "baxis": {
            "gridcolor": "white",
            "linecolor": "white",
            "ticks": ""
           },
           "bgcolor": "#E5ECF6",
           "caxis": {
            "gridcolor": "white",
            "linecolor": "white",
            "ticks": ""
           }
          },
          "title": {
           "x": 0.05
          },
          "xaxis": {
           "automargin": true,
           "gridcolor": "white",
           "linecolor": "white",
           "ticks": "",
           "title": {
            "standoff": 15
           },
           "zerolinecolor": "white",
           "zerolinewidth": 2
          },
          "yaxis": {
           "automargin": true,
           "gridcolor": "white",
           "linecolor": "white",
           "ticks": "",
           "title": {
            "standoff": 15
           },
           "zerolinecolor": "white",
           "zerolinewidth": 2
          }
         }
        },
        "xaxis": {
         "anchor": "y",
         "domain": [
          0,
          1
         ],
         "title": {
          "text": "GDP per capita"
         }
        },
        "yaxis": {
         "anchor": "x",
         "domain": [
          0,
          1
         ],
         "title": {
          "text": "HDI"
         }
        }
       }
      },
      "text/html": [
       "<div>                            <div id=\"9743660a-05d2-4f75-9827-4dd90bdcff88\" class=\"plotly-graph-div\" style=\"height:525px; width:100%;\"></div>            <script type=\"text/javascript\">                require([\"plotly\"], function(Plotly) {                    window.PLOTLYENV=window.PLOTLYENV || {};                                    if (document.getElementById(\"9743660a-05d2-4f75-9827-4dd90bdcff88\")) {                    Plotly.newPlot(                        \"9743660a-05d2-4f75-9827-4dd90bdcff88\",                        [{\"hovertemplate\": \"<b>%{hovertext}</b><br><br>GDP per capita=%{x}<br>HDI=%{y}<extra></extra>\", \"hovertext\": [\"Albania\", \"Australia\", \"Austria\", \"Azerbaijan\", \"Belarus\", \"Belgium\", \"Bulgaria\", \"Canada\", \"Hong Kong\", \"China\", \"Croatia\", \"Cyprus\", \"Denmark\", \"El Salvador\", \"Estonia\", \"Finland\", \"France\", \"Georgia\", \"Germany\", \"Greece\", \"Guatemala\", \"Hungary\", \"Iceland\", \"Indonesia\", \"Ireland\", \"Israel\", \"Italy\", \"Japan\", \"Kazakhstan\", \"Kiribati\", \"Kyrgyzstan\", \"Latvia\", \"Lithuania\", \"Luxembourg\", \"Malta\", \"Mauritius\", \"Mongolia\", \"Myanmar\", \"Netherlands\", \"New Zealand\", \"Norway\", \"Poland\", \"Portugal\", \"Romania\", \"Russian Federation\", \"Singapore\", \"Slovakia\", \"Slovenia\", \"South Africa\", \"Spain\", \"Sweden\", \"Switzerland\", \"Thailand\", \"Turkey\", \"Ukraine\", \"United Arab Emirates\", \"United Kingdom\", \"Uzbekistan\"], \"legendgroup\": \"\", \"marker\": {\"color\": \"#636efa\", \"symbol\": \"circle\"}, \"mode\": \"markers\", \"name\": \"\", \"orientation\": \"v\", \"showlegend\": false, \"type\": \"scatter\", \"x\": [13656.59277, 49309.11328, 55833.55859, 14442.04102, 19279.20898, 51944.16797, 23265.87695, 49171.51172, 59586.20313, 15977.64551, 29336.08594, 41521.92188, 57161.6875, 8776.119141, 36401.10938, 48582.58594, 46017.76563, 14989.25781, 53929.64063, 29698.03125, 8653.308594, 32553.69531, 56935.77344, 11811.97559, 86650.00781, 40626.21484, 42708.03516, 42022.48828, 26351.80469, 2340.389893, 5258.366699, 31012.13477, 37166.21094, 116518.2734, 43950.61719, 22869.75586, 12486.07715, 4739.710449, 56784.03906, 42877.94141, 64385.00781, 33185.15625, 34945.66016, 29875.0625, 27210.54688, 98411.58594, 31927.59375, 38946.68359, 13709.9668, 40802.48828, 52850.57031, 70944.35156, 18453.4707, 28197.24805, 12804.95508, 68263.67188, 47368.58594, 7348.146973], \"xaxis\": \"x\", \"y\": [0.795, 0.944, 0.922, 0.756, 0.823, 0.931, 0.816, 0.929, 0.949, 0.761, 0.851, 0.887, 0.94, 0.673, 0.892, 0.938, 0.901, 0.812, 0.947, 0.888, 0.663, 0.854, 0.949, 0.718, 0.955, 0.919, 0.892, 0.919, 0.825, 0.63, 0.697, 0.866, 0.882, 0.916, 0.895, 0.804, 0.737, 0.583, 0.944, 0.931, 0.957, 0.88, 0.864, 0.828, 0.824, 0.938, 0.86, 0.917, 0.709, 0.904, 0.945, 0.955, 0.777, 0.82, 0.779, 0.89, 0.932, 0.72], \"yaxis\": \"y\"}],                        {\"legend\": {\"tracegroupgap\": 0}, \"margin\": {\"t\": 60}, \"template\": {\"data\": {\"bar\": [{\"error_x\": {\"color\": \"#2a3f5f\"}, \"error_y\": {\"color\": \"#2a3f5f\"}, \"marker\": {\"line\": {\"color\": \"#E5ECF6\", \"width\": 0.5}}, \"type\": \"bar\"}], \"barpolar\": [{\"marker\": {\"line\": {\"color\": \"#E5ECF6\", \"width\": 0.5}}, \"type\": \"barpolar\"}], \"carpet\": [{\"aaxis\": {\"endlinecolor\": \"#2a3f5f\", \"gridcolor\": \"white\", \"linecolor\": \"white\", \"minorgridcolor\": \"white\", \"startlinecolor\": \"#2a3f5f\"}, \"baxis\": {\"endlinecolor\": \"#2a3f5f\", \"gridcolor\": \"white\", \"linecolor\": \"white\", \"minorgridcolor\": \"white\", \"startlinecolor\": \"#2a3f5f\"}, \"type\": \"carpet\"}], \"choropleth\": [{\"colorbar\": {\"outlinewidth\": 0, \"ticks\": \"\"}, \"type\": \"choropleth\"}], \"contour\": [{\"colorbar\": {\"outlinewidth\": 0, \"ticks\": \"\"}, \"colorscale\": [[0.0, \"#0d0887\"], [0.1111111111111111, \"#46039f\"], [0.2222222222222222, \"#7201a8\"], [0.3333333333333333, \"#9c179e\"], [0.4444444444444444, \"#bd3786\"], [0.5555555555555556, \"#d8576b\"], [0.6666666666666666, \"#ed7953\"], [0.7777777777777778, \"#fb9f3a\"], [0.8888888888888888, \"#fdca26\"], [1.0, \"#f0f921\"]], \"type\": \"contour\"}], \"contourcarpet\": [{\"colorbar\": {\"outlinewidth\": 0, \"ticks\": \"\"}, \"type\": \"contourcarpet\"}], \"heatmap\": [{\"colorbar\": {\"outlinewidth\": 0, \"ticks\": \"\"}, \"colorscale\": [[0.0, \"#0d0887\"], [0.1111111111111111, \"#46039f\"], [0.2222222222222222, \"#7201a8\"], [0.3333333333333333, \"#9c179e\"], [0.4444444444444444, \"#bd3786\"], [0.5555555555555556, \"#d8576b\"], [0.6666666666666666, \"#ed7953\"], [0.7777777777777778, \"#fb9f3a\"], [0.8888888888888888, \"#fdca26\"], [1.0, \"#f0f921\"]], \"type\": \"heatmap\"}], \"heatmapgl\": [{\"colorbar\": {\"outlinewidth\": 0, \"ticks\": \"\"}, \"colorscale\": [[0.0, \"#0d0887\"], [0.1111111111111111, \"#46039f\"], [0.2222222222222222, \"#7201a8\"], [0.3333333333333333, \"#9c179e\"], [0.4444444444444444, \"#bd3786\"], [0.5555555555555556, \"#d8576b\"], [0.6666666666666666, \"#ed7953\"], [0.7777777777777778, \"#fb9f3a\"], [0.8888888888888888, \"#fdca26\"], [1.0, \"#f0f921\"]], \"type\": \"heatmapgl\"}], \"histogram\": [{\"marker\": {\"colorbar\": {\"outlinewidth\": 0, \"ticks\": \"\"}}, \"type\": \"histogram\"}], \"histogram2d\": [{\"colorbar\": {\"outlinewidth\": 0, \"ticks\": \"\"}, \"colorscale\": [[0.0, \"#0d0887\"], [0.1111111111111111, \"#46039f\"], [0.2222222222222222, \"#7201a8\"], [0.3333333333333333, \"#9c179e\"], [0.4444444444444444, \"#bd3786\"], [0.5555555555555556, \"#d8576b\"], [0.6666666666666666, \"#ed7953\"], [0.7777777777777778, \"#fb9f3a\"], [0.8888888888888888, \"#fdca26\"], [1.0, \"#f0f921\"]], \"type\": \"histogram2d\"}], \"histogram2dcontour\": [{\"colorbar\": {\"outlinewidth\": 0, \"ticks\": \"\"}, \"colorscale\": [[0.0, \"#0d0887\"], [0.1111111111111111, \"#46039f\"], [0.2222222222222222, \"#7201a8\"], [0.3333333333333333, \"#9c179e\"], [0.4444444444444444, \"#bd3786\"], [0.5555555555555556, \"#d8576b\"], [0.6666666666666666, \"#ed7953\"], [0.7777777777777778, \"#fb9f3a\"], [0.8888888888888888, \"#fdca26\"], [1.0, \"#f0f921\"]], \"type\": \"histogram2dcontour\"}], \"mesh3d\": [{\"colorbar\": {\"outlinewidth\": 0, \"ticks\": \"\"}, \"type\": \"mesh3d\"}], \"parcoords\": [{\"line\": {\"colorbar\": {\"outlinewidth\": 0, \"ticks\": \"\"}}, \"type\": \"parcoords\"}], \"pie\": [{\"automargin\": true, \"type\": \"pie\"}], \"scatter\": [{\"marker\": {\"colorbar\": {\"outlinewidth\": 0, \"ticks\": \"\"}}, \"type\": \"scatter\"}], \"scatter3d\": [{\"line\": {\"colorbar\": {\"outlinewidth\": 0, \"ticks\": \"\"}}, \"marker\": {\"colorbar\": {\"outlinewidth\": 0, \"ticks\": \"\"}}, \"type\": \"scatter3d\"}], \"scattercarpet\": [{\"marker\": {\"colorbar\": {\"outlinewidth\": 0, \"ticks\": \"\"}}, \"type\": \"scattercarpet\"}], \"scattergeo\": [{\"marker\": {\"colorbar\": {\"outlinewidth\": 0, \"ticks\": \"\"}}, \"type\": \"scattergeo\"}], \"scattergl\": [{\"marker\": {\"colorbar\": {\"outlinewidth\": 0, \"ticks\": \"\"}}, \"type\": \"scattergl\"}], \"scattermapbox\": [{\"marker\": {\"colorbar\": {\"outlinewidth\": 0, \"ticks\": \"\"}}, \"type\": \"scattermapbox\"}], \"scatterpolar\": [{\"marker\": {\"colorbar\": {\"outlinewidth\": 0, \"ticks\": \"\"}}, \"type\": \"scatterpolar\"}], \"scatterpolargl\": [{\"marker\": {\"colorbar\": {\"outlinewidth\": 0, \"ticks\": \"\"}}, \"type\": \"scatterpolargl\"}], \"scatterternary\": [{\"marker\": {\"colorbar\": {\"outlinewidth\": 0, \"ticks\": \"\"}}, \"type\": \"scatterternary\"}], \"surface\": [{\"colorbar\": {\"outlinewidth\": 0, \"ticks\": \"\"}, \"colorscale\": [[0.0, \"#0d0887\"], [0.1111111111111111, \"#46039f\"], [0.2222222222222222, \"#7201a8\"], [0.3333333333333333, \"#9c179e\"], [0.4444444444444444, \"#bd3786\"], [0.5555555555555556, \"#d8576b\"], [0.6666666666666666, \"#ed7953\"], [0.7777777777777778, \"#fb9f3a\"], [0.8888888888888888, \"#fdca26\"], [1.0, \"#f0f921\"]], \"type\": \"surface\"}], \"table\": [{\"cells\": {\"fill\": {\"color\": \"#EBF0F8\"}, \"line\": {\"color\": \"white\"}}, \"header\": {\"fill\": {\"color\": \"#C8D4E3\"}, \"line\": {\"color\": \"white\"}}, \"type\": \"table\"}]}, \"layout\": {\"annotationdefaults\": {\"arrowcolor\": \"#2a3f5f\", \"arrowhead\": 0, \"arrowwidth\": 1}, \"autotypenumbers\": \"strict\", \"coloraxis\": {\"colorbar\": {\"outlinewidth\": 0, \"ticks\": \"\"}}, \"colorscale\": {\"diverging\": [[0, \"#8e0152\"], [0.1, \"#c51b7d\"], [0.2, \"#de77ae\"], [0.3, \"#f1b6da\"], [0.4, \"#fde0ef\"], [0.5, \"#f7f7f7\"], [0.6, \"#e6f5d0\"], [0.7, \"#b8e186\"], [0.8, \"#7fbc41\"], [0.9, \"#4d9221\"], [1, \"#276419\"]], \"sequential\": [[0.0, \"#0d0887\"], [0.1111111111111111, \"#46039f\"], [0.2222222222222222, \"#7201a8\"], [0.3333333333333333, \"#9c179e\"], [0.4444444444444444, \"#bd3786\"], [0.5555555555555556, \"#d8576b\"], [0.6666666666666666, \"#ed7953\"], [0.7777777777777778, \"#fb9f3a\"], [0.8888888888888888, \"#fdca26\"], [1.0, \"#f0f921\"]], \"sequentialminus\": [[0.0, \"#0d0887\"], [0.1111111111111111, \"#46039f\"], [0.2222222222222222, \"#7201a8\"], [0.3333333333333333, \"#9c179e\"], [0.4444444444444444, \"#bd3786\"], [0.5555555555555556, \"#d8576b\"], [0.6666666666666666, \"#ed7953\"], [0.7777777777777778, \"#fb9f3a\"], [0.8888888888888888, \"#fdca26\"], [1.0, \"#f0f921\"]]}, \"colorway\": [\"#636efa\", \"#EF553B\", \"#00cc96\", \"#ab63fa\", \"#FFA15A\", \"#19d3f3\", \"#FF6692\", \"#B6E880\", \"#FF97FF\", \"#FECB52\"], \"font\": {\"color\": \"#2a3f5f\"}, \"geo\": {\"bgcolor\": \"white\", \"lakecolor\": \"white\", \"landcolor\": \"#E5ECF6\", \"showlakes\": true, \"showland\": true, \"subunitcolor\": \"white\"}, \"hoverlabel\": {\"align\": \"left\"}, \"hovermode\": \"closest\", \"mapbox\": {\"style\": \"light\"}, \"paper_bgcolor\": \"white\", \"plot_bgcolor\": \"#E5ECF6\", \"polar\": {\"angularaxis\": {\"gridcolor\": \"white\", \"linecolor\": \"white\", \"ticks\": \"\"}, \"bgcolor\": \"#E5ECF6\", \"radialaxis\": {\"gridcolor\": \"white\", \"linecolor\": \"white\", \"ticks\": \"\"}}, \"scene\": {\"xaxis\": {\"backgroundcolor\": \"#E5ECF6\", \"gridcolor\": \"white\", \"gridwidth\": 2, \"linecolor\": \"white\", \"showbackground\": true, \"ticks\": \"\", \"zerolinecolor\": \"white\"}, \"yaxis\": {\"backgroundcolor\": \"#E5ECF6\", \"gridcolor\": \"white\", \"gridwidth\": 2, \"linecolor\": \"white\", \"showbackground\": true, \"ticks\": \"\", \"zerolinecolor\": \"white\"}, \"zaxis\": {\"backgroundcolor\": \"#E5ECF6\", \"gridcolor\": \"white\", \"gridwidth\": 2, \"linecolor\": \"white\", \"showbackground\": true, \"ticks\": \"\", \"zerolinecolor\": \"white\"}}, \"shapedefaults\": {\"line\": {\"color\": \"#2a3f5f\"}}, \"ternary\": {\"aaxis\": {\"gridcolor\": \"white\", \"linecolor\": \"white\", \"ticks\": \"\"}, \"baxis\": {\"gridcolor\": \"white\", \"linecolor\": \"white\", \"ticks\": \"\"}, \"bgcolor\": \"#E5ECF6\", \"caxis\": {\"gridcolor\": \"white\", \"linecolor\": \"white\", \"ticks\": \"\"}}, \"title\": {\"x\": 0.05}, \"xaxis\": {\"automargin\": true, \"gridcolor\": \"white\", \"linecolor\": \"white\", \"ticks\": \"\", \"title\": {\"standoff\": 15}, \"zerolinecolor\": \"white\", \"zerolinewidth\": 2}, \"yaxis\": {\"automargin\": true, \"gridcolor\": \"white\", \"linecolor\": \"white\", \"ticks\": \"\", \"title\": {\"standoff\": 15}, \"zerolinecolor\": \"white\", \"zerolinewidth\": 2}}}, \"xaxis\": {\"anchor\": \"y\", \"domain\": [0.0, 1.0], \"title\": {\"text\": \"GDP per capita\"}}, \"yaxis\": {\"anchor\": \"x\", \"domain\": [0.0, 1.0], \"title\": {\"text\": \"HDI\"}}},                        {\"responsive\": true}                    ).then(function(){\n",
       "                            \n",
       "var gd = document.getElementById('9743660a-05d2-4f75-9827-4dd90bdcff88');\n",
       "var x = new MutationObserver(function (mutations, observer) {{\n",
       "        var display = window.getComputedStyle(gd).display;\n",
       "        if (!display || display === 'none') {{\n",
       "            console.log([gd, 'removed!']);\n",
       "            Plotly.purge(gd);\n",
       "            observer.disconnect();\n",
       "        }}\n",
       "}});\n",
       "\n",
       "// Listen for the removal of the full notebook cells\n",
       "var notebookContainer = gd.closest('#notebook-container');\n",
       "if (notebookContainer) {{\n",
       "    x.observe(notebookContainer, {childList: true});\n",
       "}}\n",
       "\n",
       "// Listen for the clearing of the current output cell\n",
       "var outputEl = gd.closest('.output');\n",
       "if (outputEl) {{\n",
       "    x.observe(outputEl, {childList: true});\n",
       "}}\n",
       "\n",
       "                        })                };                });            </script>        </div>"
      ]
     },
     "metadata": {},
     "output_type": "display_data"
    }
   ],
   "source": [
    "df['Opa'] = [(x-2000)/19 for x in df['Year']]\n",
    "fig = px.scatter(df[df['Year']==2019], x= \"GDP per capita\", y = \"HDI\", hover_name = 'Country')#, opacity = 'Opa')\n",
    "\n",
    "fig.show()"
   ]
  },
  {
   "cell_type": "code",
   "execution_count": 32,
   "id": "be3b84d8",
   "metadata": {},
   "outputs": [
    {
     "data": {
      "application/vnd.plotly.v1+json": {
       "config": {
        "plotlyServerURL": "https://plot.ly"
       },
       "data": [
        {
         "hovertemplate": "GDP per capita=%{x}<br>HDI=%{y}<br>Year=%{text}<extra></extra>",
         "legendgroup": "",
         "marker": {
          "color": "#636efa",
          "symbol": "circle"
         },
         "mode": "markers+text",
         "name": "",
         "orientation": "v",
         "showlegend": false,
         "text": [
          2000,
          2001,
          2002,
          2003,
          2004,
          2005,
          2006,
          2007,
          2008,
          2009,
          2010,
          2011,
          2012,
          2013,
          2014,
          2015,
          2016,
          2017,
          2018,
          2019
         ],
         "type": "scatter",
         "x": [
          47996.98047,
          49744.625,
          51797.42578,
          52494.20313,
          55040.82031,
          56943.82813,
          58189.77734,
          59530.88672,
          55712.5,
          52336.62891,
          52965.78906,
          53298.8125,
          53045.65234,
          53435.64063,
          57668.75391,
          71508.73438,
          72150.03906,
          77749.20313,
          83726.35938,
          86650.00781
         ],
         "xaxis": "x",
         "y": [
          0.867,
          0.873,
          0.881,
          0.889,
          0.898,
          0.904,
          0.906,
          0.909,
          0.911,
          0.906,
          0.901,
          0.902,
          0.908,
          0.917,
          0.928,
          0.935,
          0.943,
          0.947,
          0.951,
          0.955
         ],
         "yaxis": "y"
        }
       ],
       "layout": {
        "legend": {
         "tracegroupgap": 0
        },
        "margin": {
         "t": 60
        },
        "template": {
         "data": {
          "bar": [
           {
            "error_x": {
             "color": "#2a3f5f"
            },
            "error_y": {
             "color": "#2a3f5f"
            },
            "marker": {
             "line": {
              "color": "#E5ECF6",
              "width": 0.5
             }
            },
            "type": "bar"
           }
          ],
          "barpolar": [
           {
            "marker": {
             "line": {
              "color": "#E5ECF6",
              "width": 0.5
             }
            },
            "type": "barpolar"
           }
          ],
          "carpet": [
           {
            "aaxis": {
             "endlinecolor": "#2a3f5f",
             "gridcolor": "white",
             "linecolor": "white",
             "minorgridcolor": "white",
             "startlinecolor": "#2a3f5f"
            },
            "baxis": {
             "endlinecolor": "#2a3f5f",
             "gridcolor": "white",
             "linecolor": "white",
             "minorgridcolor": "white",
             "startlinecolor": "#2a3f5f"
            },
            "type": "carpet"
           }
          ],
          "choropleth": [
           {
            "colorbar": {
             "outlinewidth": 0,
             "ticks": ""
            },
            "type": "choropleth"
           }
          ],
          "contour": [
           {
            "colorbar": {
             "outlinewidth": 0,
             "ticks": ""
            },
            "colorscale": [
             [
              0,
              "#0d0887"
             ],
             [
              0.1111111111111111,
              "#46039f"
             ],
             [
              0.2222222222222222,
              "#7201a8"
             ],
             [
              0.3333333333333333,
              "#9c179e"
             ],
             [
              0.4444444444444444,
              "#bd3786"
             ],
             [
              0.5555555555555556,
              "#d8576b"
             ],
             [
              0.6666666666666666,
              "#ed7953"
             ],
             [
              0.7777777777777778,
              "#fb9f3a"
             ],
             [
              0.8888888888888888,
              "#fdca26"
             ],
             [
              1,
              "#f0f921"
             ]
            ],
            "type": "contour"
           }
          ],
          "contourcarpet": [
           {
            "colorbar": {
             "outlinewidth": 0,
             "ticks": ""
            },
            "type": "contourcarpet"
           }
          ],
          "heatmap": [
           {
            "colorbar": {
             "outlinewidth": 0,
             "ticks": ""
            },
            "colorscale": [
             [
              0,
              "#0d0887"
             ],
             [
              0.1111111111111111,
              "#46039f"
             ],
             [
              0.2222222222222222,
              "#7201a8"
             ],
             [
              0.3333333333333333,
              "#9c179e"
             ],
             [
              0.4444444444444444,
              "#bd3786"
             ],
             [
              0.5555555555555556,
              "#d8576b"
             ],
             [
              0.6666666666666666,
              "#ed7953"
             ],
             [
              0.7777777777777778,
              "#fb9f3a"
             ],
             [
              0.8888888888888888,
              "#fdca26"
             ],
             [
              1,
              "#f0f921"
             ]
            ],
            "type": "heatmap"
           }
          ],
          "heatmapgl": [
           {
            "colorbar": {
             "outlinewidth": 0,
             "ticks": ""
            },
            "colorscale": [
             [
              0,
              "#0d0887"
             ],
             [
              0.1111111111111111,
              "#46039f"
             ],
             [
              0.2222222222222222,
              "#7201a8"
             ],
             [
              0.3333333333333333,
              "#9c179e"
             ],
             [
              0.4444444444444444,
              "#bd3786"
             ],
             [
              0.5555555555555556,
              "#d8576b"
             ],
             [
              0.6666666666666666,
              "#ed7953"
             ],
             [
              0.7777777777777778,
              "#fb9f3a"
             ],
             [
              0.8888888888888888,
              "#fdca26"
             ],
             [
              1,
              "#f0f921"
             ]
            ],
            "type": "heatmapgl"
           }
          ],
          "histogram": [
           {
            "marker": {
             "colorbar": {
              "outlinewidth": 0,
              "ticks": ""
             }
            },
            "type": "histogram"
           }
          ],
          "histogram2d": [
           {
            "colorbar": {
             "outlinewidth": 0,
             "ticks": ""
            },
            "colorscale": [
             [
              0,
              "#0d0887"
             ],
             [
              0.1111111111111111,
              "#46039f"
             ],
             [
              0.2222222222222222,
              "#7201a8"
             ],
             [
              0.3333333333333333,
              "#9c179e"
             ],
             [
              0.4444444444444444,
              "#bd3786"
             ],
             [
              0.5555555555555556,
              "#d8576b"
             ],
             [
              0.6666666666666666,
              "#ed7953"
             ],
             [
              0.7777777777777778,
              "#fb9f3a"
             ],
             [
              0.8888888888888888,
              "#fdca26"
             ],
             [
              1,
              "#f0f921"
             ]
            ],
            "type": "histogram2d"
           }
          ],
          "histogram2dcontour": [
           {
            "colorbar": {
             "outlinewidth": 0,
             "ticks": ""
            },
            "colorscale": [
             [
              0,
              "#0d0887"
             ],
             [
              0.1111111111111111,
              "#46039f"
             ],
             [
              0.2222222222222222,
              "#7201a8"
             ],
             [
              0.3333333333333333,
              "#9c179e"
             ],
             [
              0.4444444444444444,
              "#bd3786"
             ],
             [
              0.5555555555555556,
              "#d8576b"
             ],
             [
              0.6666666666666666,
              "#ed7953"
             ],
             [
              0.7777777777777778,
              "#fb9f3a"
             ],
             [
              0.8888888888888888,
              "#fdca26"
             ],
             [
              1,
              "#f0f921"
             ]
            ],
            "type": "histogram2dcontour"
           }
          ],
          "mesh3d": [
           {
            "colorbar": {
             "outlinewidth": 0,
             "ticks": ""
            },
            "type": "mesh3d"
           }
          ],
          "parcoords": [
           {
            "line": {
             "colorbar": {
              "outlinewidth": 0,
              "ticks": ""
             }
            },
            "type": "parcoords"
           }
          ],
          "pie": [
           {
            "automargin": true,
            "type": "pie"
           }
          ],
          "scatter": [
           {
            "marker": {
             "colorbar": {
              "outlinewidth": 0,
              "ticks": ""
             }
            },
            "type": "scatter"
           }
          ],
          "scatter3d": [
           {
            "line": {
             "colorbar": {
              "outlinewidth": 0,
              "ticks": ""
             }
            },
            "marker": {
             "colorbar": {
              "outlinewidth": 0,
              "ticks": ""
             }
            },
            "type": "scatter3d"
           }
          ],
          "scattercarpet": [
           {
            "marker": {
             "colorbar": {
              "outlinewidth": 0,
              "ticks": ""
             }
            },
            "type": "scattercarpet"
           }
          ],
          "scattergeo": [
           {
            "marker": {
             "colorbar": {
              "outlinewidth": 0,
              "ticks": ""
             }
            },
            "type": "scattergeo"
           }
          ],
          "scattergl": [
           {
            "marker": {
             "colorbar": {
              "outlinewidth": 0,
              "ticks": ""
             }
            },
            "type": "scattergl"
           }
          ],
          "scattermapbox": [
           {
            "marker": {
             "colorbar": {
              "outlinewidth": 0,
              "ticks": ""
             }
            },
            "type": "scattermapbox"
           }
          ],
          "scatterpolar": [
           {
            "marker": {
             "colorbar": {
              "outlinewidth": 0,
              "ticks": ""
             }
            },
            "type": "scatterpolar"
           }
          ],
          "scatterpolargl": [
           {
            "marker": {
             "colorbar": {
              "outlinewidth": 0,
              "ticks": ""
             }
            },
            "type": "scatterpolargl"
           }
          ],
          "scatterternary": [
           {
            "marker": {
             "colorbar": {
              "outlinewidth": 0,
              "ticks": ""
             }
            },
            "type": "scatterternary"
           }
          ],
          "surface": [
           {
            "colorbar": {
             "outlinewidth": 0,
             "ticks": ""
            },
            "colorscale": [
             [
              0,
              "#0d0887"
             ],
             [
              0.1111111111111111,
              "#46039f"
             ],
             [
              0.2222222222222222,
              "#7201a8"
             ],
             [
              0.3333333333333333,
              "#9c179e"
             ],
             [
              0.4444444444444444,
              "#bd3786"
             ],
             [
              0.5555555555555556,
              "#d8576b"
             ],
             [
              0.6666666666666666,
              "#ed7953"
             ],
             [
              0.7777777777777778,
              "#fb9f3a"
             ],
             [
              0.8888888888888888,
              "#fdca26"
             ],
             [
              1,
              "#f0f921"
             ]
            ],
            "type": "surface"
           }
          ],
          "table": [
           {
            "cells": {
             "fill": {
              "color": "#EBF0F8"
             },
             "line": {
              "color": "white"
             }
            },
            "header": {
             "fill": {
              "color": "#C8D4E3"
             },
             "line": {
              "color": "white"
             }
            },
            "type": "table"
           }
          ]
         },
         "layout": {
          "annotationdefaults": {
           "arrowcolor": "#2a3f5f",
           "arrowhead": 0,
           "arrowwidth": 1
          },
          "autotypenumbers": "strict",
          "coloraxis": {
           "colorbar": {
            "outlinewidth": 0,
            "ticks": ""
           }
          },
          "colorscale": {
           "diverging": [
            [
             0,
             "#8e0152"
            ],
            [
             0.1,
             "#c51b7d"
            ],
            [
             0.2,
             "#de77ae"
            ],
            [
             0.3,
             "#f1b6da"
            ],
            [
             0.4,
             "#fde0ef"
            ],
            [
             0.5,
             "#f7f7f7"
            ],
            [
             0.6,
             "#e6f5d0"
            ],
            [
             0.7,
             "#b8e186"
            ],
            [
             0.8,
             "#7fbc41"
            ],
            [
             0.9,
             "#4d9221"
            ],
            [
             1,
             "#276419"
            ]
           ],
           "sequential": [
            [
             0,
             "#0d0887"
            ],
            [
             0.1111111111111111,
             "#46039f"
            ],
            [
             0.2222222222222222,
             "#7201a8"
            ],
            [
             0.3333333333333333,
             "#9c179e"
            ],
            [
             0.4444444444444444,
             "#bd3786"
            ],
            [
             0.5555555555555556,
             "#d8576b"
            ],
            [
             0.6666666666666666,
             "#ed7953"
            ],
            [
             0.7777777777777778,
             "#fb9f3a"
            ],
            [
             0.8888888888888888,
             "#fdca26"
            ],
            [
             1,
             "#f0f921"
            ]
           ],
           "sequentialminus": [
            [
             0,
             "#0d0887"
            ],
            [
             0.1111111111111111,
             "#46039f"
            ],
            [
             0.2222222222222222,
             "#7201a8"
            ],
            [
             0.3333333333333333,
             "#9c179e"
            ],
            [
             0.4444444444444444,
             "#bd3786"
            ],
            [
             0.5555555555555556,
             "#d8576b"
            ],
            [
             0.6666666666666666,
             "#ed7953"
            ],
            [
             0.7777777777777778,
             "#fb9f3a"
            ],
            [
             0.8888888888888888,
             "#fdca26"
            ],
            [
             1,
             "#f0f921"
            ]
           ]
          },
          "colorway": [
           "#636efa",
           "#EF553B",
           "#00cc96",
           "#ab63fa",
           "#FFA15A",
           "#19d3f3",
           "#FF6692",
           "#B6E880",
           "#FF97FF",
           "#FECB52"
          ],
          "font": {
           "color": "#2a3f5f"
          },
          "geo": {
           "bgcolor": "white",
           "lakecolor": "white",
           "landcolor": "#E5ECF6",
           "showlakes": true,
           "showland": true,
           "subunitcolor": "white"
          },
          "hoverlabel": {
           "align": "left"
          },
          "hovermode": "closest",
          "mapbox": {
           "style": "light"
          },
          "paper_bgcolor": "white",
          "plot_bgcolor": "#E5ECF6",
          "polar": {
           "angularaxis": {
            "gridcolor": "white",
            "linecolor": "white",
            "ticks": ""
           },
           "bgcolor": "#E5ECF6",
           "radialaxis": {
            "gridcolor": "white",
            "linecolor": "white",
            "ticks": ""
           }
          },
          "scene": {
           "xaxis": {
            "backgroundcolor": "#E5ECF6",
            "gridcolor": "white",
            "gridwidth": 2,
            "linecolor": "white",
            "showbackground": true,
            "ticks": "",
            "zerolinecolor": "white"
           },
           "yaxis": {
            "backgroundcolor": "#E5ECF6",
            "gridcolor": "white",
            "gridwidth": 2,
            "linecolor": "white",
            "showbackground": true,
            "ticks": "",
            "zerolinecolor": "white"
           },
           "zaxis": {
            "backgroundcolor": "#E5ECF6",
            "gridcolor": "white",
            "gridwidth": 2,
            "linecolor": "white",
            "showbackground": true,
            "ticks": "",
            "zerolinecolor": "white"
           }
          },
          "shapedefaults": {
           "line": {
            "color": "#2a3f5f"
           }
          },
          "ternary": {
           "aaxis": {
            "gridcolor": "white",
            "linecolor": "white",
            "ticks": ""
           },
           "baxis": {
            "gridcolor": "white",
            "linecolor": "white",
            "ticks": ""
           },
           "bgcolor": "#E5ECF6",
           "caxis": {
            "gridcolor": "white",
            "linecolor": "white",
            "ticks": ""
           }
          },
          "title": {
           "x": 0.05
          },
          "xaxis": {
           "automargin": true,
           "gridcolor": "white",
           "linecolor": "white",
           "ticks": "",
           "title": {
            "standoff": 15
           },
           "zerolinecolor": "white",
           "zerolinewidth": 2
          },
          "yaxis": {
           "automargin": true,
           "gridcolor": "white",
           "linecolor": "white",
           "ticks": "",
           "title": {
            "standoff": 15
           },
           "zerolinecolor": "white",
           "zerolinewidth": 2
          }
         }
        },
        "xaxis": {
         "anchor": "y",
         "domain": [
          0,
          1
         ],
         "title": {
          "text": "GDP per capita"
         }
        },
        "yaxis": {
         "anchor": "x",
         "domain": [
          0,
          1
         ],
         "title": {
          "text": "HDI"
         }
        }
       }
      },
      "text/html": [
       "<div>                            <div id=\"4f081dbc-f345-42be-99db-2accda4d8f13\" class=\"plotly-graph-div\" style=\"height:525px; width:100%;\"></div>            <script type=\"text/javascript\">                require([\"plotly\"], function(Plotly) {                    window.PLOTLYENV=window.PLOTLYENV || {};                                    if (document.getElementById(\"4f081dbc-f345-42be-99db-2accda4d8f13\")) {                    Plotly.newPlot(                        \"4f081dbc-f345-42be-99db-2accda4d8f13\",                        [{\"hovertemplate\": \"GDP per capita=%{x}<br>HDI=%{y}<br>Year=%{text}<extra></extra>\", \"legendgroup\": \"\", \"marker\": {\"color\": \"#636efa\", \"symbol\": \"circle\"}, \"mode\": \"markers+text\", \"name\": \"\", \"orientation\": \"v\", \"showlegend\": false, \"text\": [2000.0, 2001.0, 2002.0, 2003.0, 2004.0, 2005.0, 2006.0, 2007.0, 2008.0, 2009.0, 2010.0, 2011.0, 2012.0, 2013.0, 2014.0, 2015.0, 2016.0, 2017.0, 2018.0, 2019.0], \"type\": \"scatter\", \"x\": [47996.98047, 49744.625, 51797.42578, 52494.20313, 55040.82031, 56943.82813, 58189.77734, 59530.88672, 55712.5, 52336.62891, 52965.78906, 53298.8125, 53045.65234, 53435.64063, 57668.75391, 71508.73438, 72150.03906, 77749.20313, 83726.35938, 86650.00781], \"xaxis\": \"x\", \"y\": [0.867, 0.873, 0.881, 0.889, 0.898, 0.904, 0.906, 0.909, 0.911, 0.906, 0.901, 0.902, 0.908, 0.917, 0.928, 0.935, 0.943, 0.947, 0.951, 0.955], \"yaxis\": \"y\"}],                        {\"legend\": {\"tracegroupgap\": 0}, \"margin\": {\"t\": 60}, \"template\": {\"data\": {\"bar\": [{\"error_x\": {\"color\": \"#2a3f5f\"}, \"error_y\": {\"color\": \"#2a3f5f\"}, \"marker\": {\"line\": {\"color\": \"#E5ECF6\", \"width\": 0.5}}, \"type\": \"bar\"}], \"barpolar\": [{\"marker\": {\"line\": {\"color\": \"#E5ECF6\", \"width\": 0.5}}, \"type\": \"barpolar\"}], \"carpet\": [{\"aaxis\": {\"endlinecolor\": \"#2a3f5f\", \"gridcolor\": \"white\", \"linecolor\": \"white\", \"minorgridcolor\": \"white\", \"startlinecolor\": \"#2a3f5f\"}, \"baxis\": {\"endlinecolor\": \"#2a3f5f\", \"gridcolor\": \"white\", \"linecolor\": \"white\", \"minorgridcolor\": \"white\", \"startlinecolor\": \"#2a3f5f\"}, \"type\": \"carpet\"}], \"choropleth\": [{\"colorbar\": {\"outlinewidth\": 0, \"ticks\": \"\"}, \"type\": \"choropleth\"}], \"contour\": [{\"colorbar\": {\"outlinewidth\": 0, \"ticks\": \"\"}, \"colorscale\": [[0.0, \"#0d0887\"], [0.1111111111111111, \"#46039f\"], [0.2222222222222222, \"#7201a8\"], [0.3333333333333333, \"#9c179e\"], [0.4444444444444444, \"#bd3786\"], [0.5555555555555556, \"#d8576b\"], [0.6666666666666666, \"#ed7953\"], [0.7777777777777778, \"#fb9f3a\"], [0.8888888888888888, \"#fdca26\"], [1.0, \"#f0f921\"]], \"type\": \"contour\"}], \"contourcarpet\": [{\"colorbar\": {\"outlinewidth\": 0, \"ticks\": \"\"}, \"type\": \"contourcarpet\"}], \"heatmap\": [{\"colorbar\": {\"outlinewidth\": 0, \"ticks\": \"\"}, \"colorscale\": [[0.0, \"#0d0887\"], [0.1111111111111111, \"#46039f\"], [0.2222222222222222, \"#7201a8\"], [0.3333333333333333, \"#9c179e\"], [0.4444444444444444, \"#bd3786\"], [0.5555555555555556, \"#d8576b\"], [0.6666666666666666, \"#ed7953\"], [0.7777777777777778, \"#fb9f3a\"], [0.8888888888888888, \"#fdca26\"], [1.0, \"#f0f921\"]], \"type\": \"heatmap\"}], \"heatmapgl\": [{\"colorbar\": {\"outlinewidth\": 0, \"ticks\": \"\"}, \"colorscale\": [[0.0, \"#0d0887\"], [0.1111111111111111, \"#46039f\"], [0.2222222222222222, \"#7201a8\"], [0.3333333333333333, \"#9c179e\"], [0.4444444444444444, \"#bd3786\"], [0.5555555555555556, \"#d8576b\"], [0.6666666666666666, \"#ed7953\"], [0.7777777777777778, \"#fb9f3a\"], [0.8888888888888888, \"#fdca26\"], [1.0, \"#f0f921\"]], \"type\": \"heatmapgl\"}], \"histogram\": [{\"marker\": {\"colorbar\": {\"outlinewidth\": 0, \"ticks\": \"\"}}, \"type\": \"histogram\"}], \"histogram2d\": [{\"colorbar\": {\"outlinewidth\": 0, \"ticks\": \"\"}, \"colorscale\": [[0.0, \"#0d0887\"], [0.1111111111111111, \"#46039f\"], [0.2222222222222222, \"#7201a8\"], [0.3333333333333333, \"#9c179e\"], [0.4444444444444444, \"#bd3786\"], [0.5555555555555556, \"#d8576b\"], [0.6666666666666666, \"#ed7953\"], [0.7777777777777778, \"#fb9f3a\"], [0.8888888888888888, \"#fdca26\"], [1.0, \"#f0f921\"]], \"type\": \"histogram2d\"}], \"histogram2dcontour\": [{\"colorbar\": {\"outlinewidth\": 0, \"ticks\": \"\"}, \"colorscale\": [[0.0, \"#0d0887\"], [0.1111111111111111, \"#46039f\"], [0.2222222222222222, \"#7201a8\"], [0.3333333333333333, \"#9c179e\"], [0.4444444444444444, \"#bd3786\"], [0.5555555555555556, \"#d8576b\"], [0.6666666666666666, \"#ed7953\"], [0.7777777777777778, \"#fb9f3a\"], [0.8888888888888888, \"#fdca26\"], [1.0, \"#f0f921\"]], \"type\": \"histogram2dcontour\"}], \"mesh3d\": [{\"colorbar\": {\"outlinewidth\": 0, \"ticks\": \"\"}, \"type\": \"mesh3d\"}], \"parcoords\": [{\"line\": {\"colorbar\": {\"outlinewidth\": 0, \"ticks\": \"\"}}, \"type\": \"parcoords\"}], \"pie\": [{\"automargin\": true, \"type\": \"pie\"}], \"scatter\": [{\"marker\": {\"colorbar\": {\"outlinewidth\": 0, \"ticks\": \"\"}}, \"type\": \"scatter\"}], \"scatter3d\": [{\"line\": {\"colorbar\": {\"outlinewidth\": 0, \"ticks\": \"\"}}, \"marker\": {\"colorbar\": {\"outlinewidth\": 0, \"ticks\": \"\"}}, \"type\": \"scatter3d\"}], \"scattercarpet\": [{\"marker\": {\"colorbar\": {\"outlinewidth\": 0, \"ticks\": \"\"}}, \"type\": \"scattercarpet\"}], \"scattergeo\": [{\"marker\": {\"colorbar\": {\"outlinewidth\": 0, \"ticks\": \"\"}}, \"type\": \"scattergeo\"}], \"scattergl\": [{\"marker\": {\"colorbar\": {\"outlinewidth\": 0, \"ticks\": \"\"}}, \"type\": \"scattergl\"}], \"scattermapbox\": [{\"marker\": {\"colorbar\": {\"outlinewidth\": 0, \"ticks\": \"\"}}, \"type\": \"scattermapbox\"}], \"scatterpolar\": [{\"marker\": {\"colorbar\": {\"outlinewidth\": 0, \"ticks\": \"\"}}, \"type\": \"scatterpolar\"}], \"scatterpolargl\": [{\"marker\": {\"colorbar\": {\"outlinewidth\": 0, \"ticks\": \"\"}}, \"type\": \"scatterpolargl\"}], \"scatterternary\": [{\"marker\": {\"colorbar\": {\"outlinewidth\": 0, \"ticks\": \"\"}}, \"type\": \"scatterternary\"}], \"surface\": [{\"colorbar\": {\"outlinewidth\": 0, \"ticks\": \"\"}, \"colorscale\": [[0.0, \"#0d0887\"], [0.1111111111111111, \"#46039f\"], [0.2222222222222222, \"#7201a8\"], [0.3333333333333333, \"#9c179e\"], [0.4444444444444444, \"#bd3786\"], [0.5555555555555556, \"#d8576b\"], [0.6666666666666666, \"#ed7953\"], [0.7777777777777778, \"#fb9f3a\"], [0.8888888888888888, \"#fdca26\"], [1.0, \"#f0f921\"]], \"type\": \"surface\"}], \"table\": [{\"cells\": {\"fill\": {\"color\": \"#EBF0F8\"}, \"line\": {\"color\": \"white\"}}, \"header\": {\"fill\": {\"color\": \"#C8D4E3\"}, \"line\": {\"color\": \"white\"}}, \"type\": \"table\"}]}, \"layout\": {\"annotationdefaults\": {\"arrowcolor\": \"#2a3f5f\", \"arrowhead\": 0, \"arrowwidth\": 1}, \"autotypenumbers\": \"strict\", \"coloraxis\": {\"colorbar\": {\"outlinewidth\": 0, \"ticks\": \"\"}}, \"colorscale\": {\"diverging\": [[0, \"#8e0152\"], [0.1, \"#c51b7d\"], [0.2, \"#de77ae\"], [0.3, \"#f1b6da\"], [0.4, \"#fde0ef\"], [0.5, \"#f7f7f7\"], [0.6, \"#e6f5d0\"], [0.7, \"#b8e186\"], [0.8, \"#7fbc41\"], [0.9, \"#4d9221\"], [1, \"#276419\"]], \"sequential\": [[0.0, \"#0d0887\"], [0.1111111111111111, \"#46039f\"], [0.2222222222222222, \"#7201a8\"], [0.3333333333333333, \"#9c179e\"], [0.4444444444444444, \"#bd3786\"], [0.5555555555555556, \"#d8576b\"], [0.6666666666666666, \"#ed7953\"], [0.7777777777777778, \"#fb9f3a\"], [0.8888888888888888, \"#fdca26\"], [1.0, \"#f0f921\"]], \"sequentialminus\": [[0.0, \"#0d0887\"], [0.1111111111111111, \"#46039f\"], [0.2222222222222222, \"#7201a8\"], [0.3333333333333333, \"#9c179e\"], [0.4444444444444444, \"#bd3786\"], [0.5555555555555556, \"#d8576b\"], [0.6666666666666666, \"#ed7953\"], [0.7777777777777778, \"#fb9f3a\"], [0.8888888888888888, \"#fdca26\"], [1.0, \"#f0f921\"]]}, \"colorway\": [\"#636efa\", \"#EF553B\", \"#00cc96\", \"#ab63fa\", \"#FFA15A\", \"#19d3f3\", \"#FF6692\", \"#B6E880\", \"#FF97FF\", \"#FECB52\"], \"font\": {\"color\": \"#2a3f5f\"}, \"geo\": {\"bgcolor\": \"white\", \"lakecolor\": \"white\", \"landcolor\": \"#E5ECF6\", \"showlakes\": true, \"showland\": true, \"subunitcolor\": \"white\"}, \"hoverlabel\": {\"align\": \"left\"}, \"hovermode\": \"closest\", \"mapbox\": {\"style\": \"light\"}, \"paper_bgcolor\": \"white\", \"plot_bgcolor\": \"#E5ECF6\", \"polar\": {\"angularaxis\": {\"gridcolor\": \"white\", \"linecolor\": \"white\", \"ticks\": \"\"}, \"bgcolor\": \"#E5ECF6\", \"radialaxis\": {\"gridcolor\": \"white\", \"linecolor\": \"white\", \"ticks\": \"\"}}, \"scene\": {\"xaxis\": {\"backgroundcolor\": \"#E5ECF6\", \"gridcolor\": \"white\", \"gridwidth\": 2, \"linecolor\": \"white\", \"showbackground\": true, \"ticks\": \"\", \"zerolinecolor\": \"white\"}, \"yaxis\": {\"backgroundcolor\": \"#E5ECF6\", \"gridcolor\": \"white\", \"gridwidth\": 2, \"linecolor\": \"white\", \"showbackground\": true, \"ticks\": \"\", \"zerolinecolor\": \"white\"}, \"zaxis\": {\"backgroundcolor\": \"#E5ECF6\", \"gridcolor\": \"white\", \"gridwidth\": 2, \"linecolor\": \"white\", \"showbackground\": true, \"ticks\": \"\", \"zerolinecolor\": \"white\"}}, \"shapedefaults\": {\"line\": {\"color\": \"#2a3f5f\"}}, \"ternary\": {\"aaxis\": {\"gridcolor\": \"white\", \"linecolor\": \"white\", \"ticks\": \"\"}, \"baxis\": {\"gridcolor\": \"white\", \"linecolor\": \"white\", \"ticks\": \"\"}, \"bgcolor\": \"#E5ECF6\", \"caxis\": {\"gridcolor\": \"white\", \"linecolor\": \"white\", \"ticks\": \"\"}}, \"title\": {\"x\": 0.05}, \"xaxis\": {\"automargin\": true, \"gridcolor\": \"white\", \"linecolor\": \"white\", \"ticks\": \"\", \"title\": {\"standoff\": 15}, \"zerolinecolor\": \"white\", \"zerolinewidth\": 2}, \"yaxis\": {\"automargin\": true, \"gridcolor\": \"white\", \"linecolor\": \"white\", \"ticks\": \"\", \"title\": {\"standoff\": 15}, \"zerolinecolor\": \"white\", \"zerolinewidth\": 2}}}, \"xaxis\": {\"anchor\": \"y\", \"domain\": [0.0, 1.0], \"title\": {\"text\": \"GDP per capita\"}}, \"yaxis\": {\"anchor\": \"x\", \"domain\": [0.0, 1.0], \"title\": {\"text\": \"HDI\"}}},                        {\"responsive\": true}                    ).then(function(){\n",
       "                            \n",
       "var gd = document.getElementById('4f081dbc-f345-42be-99db-2accda4d8f13');\n",
       "var x = new MutationObserver(function (mutations, observer) {{\n",
       "        var display = window.getComputedStyle(gd).display;\n",
       "        if (!display || display === 'none') {{\n",
       "            console.log([gd, 'removed!']);\n",
       "            Plotly.purge(gd);\n",
       "            observer.disconnect();\n",
       "        }}\n",
       "}});\n",
       "\n",
       "// Listen for the removal of the full notebook cells\n",
       "var notebookContainer = gd.closest('#notebook-container');\n",
       "if (notebookContainer) {{\n",
       "    x.observe(notebookContainer, {childList: true});\n",
       "}}\n",
       "\n",
       "// Listen for the clearing of the current output cell\n",
       "var outputEl = gd.closest('.output');\n",
       "if (outputEl) {{\n",
       "    x.observe(outputEl, {childList: true});\n",
       "}}\n",
       "\n",
       "                        })                };                });            </script>        </div>"
      ]
     },
     "metadata": {},
     "output_type": "display_data"
    }
   ],
   "source": [
    "fig = px.scatter(df[df['Country']=='Ireland'], x= \"GDP per capita\", y = \"HDI\", text = 'Year' )#, opacity = 'Opa')\n",
    "\n",
    "fig.show()"
   ]
  },
  {
   "cell_type": "code",
   "execution_count": null,
   "id": "f71e3ae2",
   "metadata": {},
   "outputs": [],
   "source": []
  },
  {
   "cell_type": "code",
   "execution_count": null,
   "id": "169e81a2",
   "metadata": {},
   "outputs": [],
   "source": []
  },
  {
   "cell_type": "markdown",
   "id": "5badd06a",
   "metadata": {},
   "source": [
    "### B: Is there a relationship between GDP per capita and HDI? is this relationship different for different regions of the world? \n"
   ]
  },
  {
   "cell_type": "code",
   "execution_count": null,
   "id": "4df91d53",
   "metadata": {},
   "outputs": [],
   "source": [
    "\n"
   ]
  },
  {
   "cell_type": "markdown",
   "id": "384c3053",
   "metadata": {},
   "source": [
    "### C: Is expenditure on education or health correlated with the HDI *and* GDP?\n",
    "\n",
    "Can you visualize the three variables at once? (HDI, GDP and % expenditure in health/education).\n",
    "\n",
    "First think (even better, make a sketch) of the different possibilities you have. Then implement the one you think its clearer here below."
   ]
  },
  {
   "cell_type": "code",
   "execution_count": null,
   "id": "50d958e6",
   "metadata": {},
   "outputs": [],
   "source": []
  },
  {
   "cell_type": "markdown",
   "id": "4467089d",
   "metadata": {},
   "source": [
    "### D: are countries getting richer, i.e. is their GDP growing over time? \n",
    "\n",
    "You can visualize some countries relevant for you, or randomly pick some, say ten of them.\n"
   ]
  },
  {
   "cell_type": "code",
   "execution_count": null,
   "id": "480843d3",
   "metadata": {},
   "outputs": [],
   "source": []
  },
  {
   "cell_type": "markdown",
   "id": "eb90e9ce",
   "metadata": {},
   "source": [
    "### E: According to this dataset, which is - on average - the less developed region? Visualize the fact that the Global North is more developed than the Global South.\n",
    "\n",
    "Consider that your message is simple, comparing regions. Which kind of plot is better at comparing categorial entities?"
   ]
  },
  {
   "cell_type": "code",
   "execution_count": null,
   "id": "0c3e5ef4",
   "metadata": {},
   "outputs": [],
   "source": []
  }
 ],
 "metadata": {
  "kernelspec": {
   "display_name": "Python 3 (ipykernel)",
   "language": "python",
   "name": "python3"
  },
  "language_info": {
   "codemirror_mode": {
    "name": "ipython",
    "version": 3
   },
   "file_extension": ".py",
   "mimetype": "text/x-python",
   "name": "python",
   "nbconvert_exporter": "python",
   "pygments_lexer": "ipython3",
   "version": "3.10.6"
  }
 },
 "nbformat": 4,
 "nbformat_minor": 5
}
